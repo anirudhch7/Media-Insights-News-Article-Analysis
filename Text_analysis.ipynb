{
  "nbformat": 4,
  "nbformat_minor": 0,
  "metadata": {
    "colab": {
      "provenance": []
    },
    "kernelspec": {
      "name": "python3",
      "display_name": "Python 3"
    },
    "language_info": {
      "name": "python"
    }
  },
  "cells": [
    {
      "cell_type": "code",
      "execution_count": null,
      "metadata": {
        "colab": {
          "base_uri": "https://localhost:8080/"
        },
        "id": "9dvllBXMSZRM",
        "outputId": "a4516d32-af2d-4816-a2a0-6189aaeb0cda"
      },
      "outputs": [
        {
          "output_type": "stream",
          "name": "stdout",
          "text": [
            "Collecting indic-nlp-library\n",
            "  Downloading indic_nlp_library-0.92-py3-none-any.whl (40 kB)\n",
            "\u001b[2K     \u001b[90m━━━━━━━━━━━━━━━━━━━━━━━━━━━━━━━━━━━━━━━━\u001b[0m \u001b[32m40.3/40.3 kB\u001b[0m \u001b[31m722.7 kB/s\u001b[0m eta \u001b[36m0:00:00\u001b[0m\n",
            "\u001b[?25hCollecting sphinx-argparse (from indic-nlp-library)\n",
            "  Downloading sphinx_argparse-0.4.0-py3-none-any.whl (12 kB)\n",
            "Collecting sphinx-rtd-theme (from indic-nlp-library)\n",
            "  Downloading sphinx_rtd_theme-2.0.0-py2.py3-none-any.whl (2.8 MB)\n",
            "\u001b[2K     \u001b[90m━━━━━━━━━━━━━━━━━━━━━━━━━━━━━━━━━━━━━━━━\u001b[0m \u001b[32m2.8/2.8 MB\u001b[0m \u001b[31m21.0 MB/s\u001b[0m eta \u001b[36m0:00:00\u001b[0m\n",
            "\u001b[?25hCollecting morfessor (from indic-nlp-library)\n",
            "  Downloading Morfessor-2.0.6-py3-none-any.whl (35 kB)\n",
            "Requirement already satisfied: pandas in /usr/local/lib/python3.10/dist-packages (from indic-nlp-library) (2.0.3)\n",
            "Requirement already satisfied: numpy in /usr/local/lib/python3.10/dist-packages (from indic-nlp-library) (1.25.2)\n",
            "Requirement already satisfied: python-dateutil>=2.8.2 in /usr/local/lib/python3.10/dist-packages (from pandas->indic-nlp-library) (2.8.2)\n",
            "Requirement already satisfied: pytz>=2020.1 in /usr/local/lib/python3.10/dist-packages (from pandas->indic-nlp-library) (2023.4)\n",
            "Requirement already satisfied: tzdata>=2022.1 in /usr/local/lib/python3.10/dist-packages (from pandas->indic-nlp-library) (2024.1)\n",
            "Requirement already satisfied: sphinx>=1.2.0 in /usr/local/lib/python3.10/dist-packages (from sphinx-argparse->indic-nlp-library) (5.0.2)\n",
            "Requirement already satisfied: docutils<0.21 in /usr/local/lib/python3.10/dist-packages (from sphinx-rtd-theme->indic-nlp-library) (0.18.1)\n",
            "Collecting sphinxcontrib-jquery<5,>=4 (from sphinx-rtd-theme->indic-nlp-library)\n",
            "  Downloading sphinxcontrib_jquery-4.1-py2.py3-none-any.whl (121 kB)\n",
            "\u001b[2K     \u001b[90m━━━━━━━━━━━━━━━━━━━━━━━━━━━━━━━━━━━━━━━━\u001b[0m \u001b[32m121.1/121.1 kB\u001b[0m \u001b[31m10.3 MB/s\u001b[0m eta \u001b[36m0:00:00\u001b[0m\n",
            "\u001b[?25hRequirement already satisfied: six>=1.5 in /usr/local/lib/python3.10/dist-packages (from python-dateutil>=2.8.2->pandas->indic-nlp-library) (1.16.0)\n",
            "Requirement already satisfied: sphinxcontrib-applehelp in /usr/local/lib/python3.10/dist-packages (from sphinx>=1.2.0->sphinx-argparse->indic-nlp-library) (1.0.8)\n",
            "Requirement already satisfied: sphinxcontrib-devhelp in /usr/local/lib/python3.10/dist-packages (from sphinx>=1.2.0->sphinx-argparse->indic-nlp-library) (1.0.6)\n",
            "Requirement already satisfied: sphinxcontrib-jsmath in /usr/local/lib/python3.10/dist-packages (from sphinx>=1.2.0->sphinx-argparse->indic-nlp-library) (1.0.1)\n",
            "Requirement already satisfied: sphinxcontrib-htmlhelp>=2.0.0 in /usr/local/lib/python3.10/dist-packages (from sphinx>=1.2.0->sphinx-argparse->indic-nlp-library) (2.0.5)\n",
            "Requirement already satisfied: sphinxcontrib-serializinghtml>=1.1.5 in /usr/local/lib/python3.10/dist-packages (from sphinx>=1.2.0->sphinx-argparse->indic-nlp-library) (1.1.10)\n",
            "Requirement already satisfied: sphinxcontrib-qthelp in /usr/local/lib/python3.10/dist-packages (from sphinx>=1.2.0->sphinx-argparse->indic-nlp-library) (1.0.7)\n",
            "Requirement already satisfied: Jinja2>=2.3 in /usr/local/lib/python3.10/dist-packages (from sphinx>=1.2.0->sphinx-argparse->indic-nlp-library) (3.1.4)\n",
            "Requirement already satisfied: Pygments>=2.0 in /usr/local/lib/python3.10/dist-packages (from sphinx>=1.2.0->sphinx-argparse->indic-nlp-library) (2.16.1)\n",
            "Requirement already satisfied: snowballstemmer>=1.1 in /usr/local/lib/python3.10/dist-packages (from sphinx>=1.2.0->sphinx-argparse->indic-nlp-library) (2.2.0)\n",
            "Requirement already satisfied: babel>=1.3 in /usr/local/lib/python3.10/dist-packages (from sphinx>=1.2.0->sphinx-argparse->indic-nlp-library) (2.15.0)\n",
            "Requirement already satisfied: alabaster<0.8,>=0.7 in /usr/local/lib/python3.10/dist-packages (from sphinx>=1.2.0->sphinx-argparse->indic-nlp-library) (0.7.16)\n",
            "Requirement already satisfied: imagesize in /usr/local/lib/python3.10/dist-packages (from sphinx>=1.2.0->sphinx-argparse->indic-nlp-library) (1.4.1)\n",
            "Requirement already satisfied: requests>=2.5.0 in /usr/local/lib/python3.10/dist-packages (from sphinx>=1.2.0->sphinx-argparse->indic-nlp-library) (2.31.0)\n",
            "Requirement already satisfied: packaging in /usr/local/lib/python3.10/dist-packages (from sphinx>=1.2.0->sphinx-argparse->indic-nlp-library) (24.1)\n",
            "Requirement already satisfied: MarkupSafe>=2.0 in /usr/local/lib/python3.10/dist-packages (from Jinja2>=2.3->sphinx>=1.2.0->sphinx-argparse->indic-nlp-library) (2.1.5)\n",
            "Requirement already satisfied: charset-normalizer<4,>=2 in /usr/local/lib/python3.10/dist-packages (from requests>=2.5.0->sphinx>=1.2.0->sphinx-argparse->indic-nlp-library) (3.3.2)\n",
            "Requirement already satisfied: idna<4,>=2.5 in /usr/local/lib/python3.10/dist-packages (from requests>=2.5.0->sphinx>=1.2.0->sphinx-argparse->indic-nlp-library) (3.7)\n",
            "Requirement already satisfied: urllib3<3,>=1.21.1 in /usr/local/lib/python3.10/dist-packages (from requests>=2.5.0->sphinx>=1.2.0->sphinx-argparse->indic-nlp-library) (2.0.7)\n",
            "Requirement already satisfied: certifi>=2017.4.17 in /usr/local/lib/python3.10/dist-packages (from requests>=2.5.0->sphinx>=1.2.0->sphinx-argparse->indic-nlp-library) (2024.6.2)\n",
            "Installing collected packages: morfessor, sphinxcontrib-jquery, sphinx-argparse, sphinx-rtd-theme, indic-nlp-library\n",
            "Successfully installed indic-nlp-library-0.92 morfessor-2.0.6 sphinx-argparse-0.4.0 sphinx-rtd-theme-2.0.0 sphinxcontrib-jquery-4.1\n"
          ]
        },
        {
          "output_type": "stream",
          "name": "stderr",
          "text": [
            "[nltk_data] Downloading package stopwords to /root/nltk_data...\n",
            "[nltk_data]   Unzipping corpora/stopwords.zip.\n",
            "[nltk_data] Downloading package wordnet to /root/nltk_data...\n",
            "[nltk_data] Downloading package punkt to /root/nltk_data...\n",
            "[nltk_data]   Unzipping tokenizers/punkt.zip.\n"
          ]
        }
      ],
      "source": [
        "import nltk\n",
        "import pandas as pd\n",
        "import numpy as np\n",
        "import re\n",
        "import string\n",
        "import matplotlib.pyplot as plt\n",
        "import seaborn as sns\n",
        "from sklearn.model_selection import train_test_split\n",
        "from sklearn.naive_bayes import MultinomialNB\n",
        "from sklearn.metrics import accuracy_score, classification_report\n",
        "import os\n",
        "!pip install indic-nlp-library\n",
        "from indicnlp.tokenize import sentence_tokenize, indic_tokenize\n",
        "from sklearn.metrics.pairwise import cosine_similarity\n",
        "from sklearn.feature_extraction.text import TfidfVectorizer, CountVectorizer\n",
        "from sklearn.metrics.pairwise import linear_kernel\n",
        "from gensim.models.doc2vec import Doc2Vec, TaggedDocument\n",
        "import gensim\n",
        "import gensim.corpora as corpora\n",
        "from gensim.utils import simple_preprocess\n",
        "from gensim.models import CoherenceModel\n",
        "import nltk\n",
        "nltk.download('stopwords')\n",
        "nltk.download('wordnet')\n",
        "nltk.download('punkt')\n",
        "from nltk.corpus import stopwords\n",
        "from nltk.stem.wordnet import WordNetLemmatizer"
      ]
    },
    {
      "cell_type": "code",
      "source": [
        "train_path = \"/content/train_telugu_news.csv\"\n",
        "telugu_news_df = pd.read_csv(train_path)\n",
        "telugu_news_df.head()"
      ],
      "metadata": {
        "colab": {
          "base_uri": "https://localhost:8080/",
          "height": 206
        },
        "id": "JebIB1jhVFHM",
        "outputId": "f9155aaa-9f41-4870-f379-d8a7dc30f3f4"
      },
      "execution_count": null,
      "outputs": [
        {
          "output_type": "execute_result",
          "data": {
            "text/plain": [
              "     SNo                 date  \\\n",
              "0    414  11-05-2017 00:39:13   \n",
              "1   2668  12-06-2017 00:40:32   \n",
              "2  19923  19-01-2017 19:51:31   \n",
              "3  15762  23-11-2017 17:29:04   \n",
              "4   8624  03-04-2017 15:48:23   \n",
              "\n",
              "                                            heading  \\\n",
              "0                            ఐడిబిఐపై ఆర్‌బిఐ నజర్‌   \n",
              "1             బ్యాంకింగ్‌ చీఫ్‌లతో నేడు జైట్లీ భేటీ   \n",
              "2                         కీలక వికెట్ తీసిన జడేజా..   \n",
              "3           మరో రెచ్చగొట్టే చర్యకు దిగిన పాకిస్థాన్   \n",
              "4  గోవాలో కొడుకుతో కలిసి అల్లు అర్జున్ స్విమ్మింగ్!   \n",
              "\n",
              "                                                body          topic  \n",
              "0  భారీ ఎత్తున మొండిబకాయిలు పెరిగిపోవడంతో ఐడిబిఐ ...       business  \n",
              "1  న్యూఢిల్లీ : ఆర్థిక మంత్రి అరుణ్‌ జైట్లీ సోమవా...       business  \n",
              "2  కటక్: ఇంగ్లండ్‌తో జరుగుతున్న సెకండ్ వన్డే మ్యా...         sports  \n",
              "3  \\nఇస్లామాబాద్ : పాకిస్థాన్ అంతర్జాతీయ ఉగ్రవాది...         nation  \n",
              "4  స్టార్‌ హీరోగా వరుస సినిమాలతో బిజీగా ఉన్నప్పటి...  entertainment  "
            ],
            "text/html": [
              "\n",
              "  <div id=\"df-70635541-ec12-465f-80e5-9fad8074f152\" class=\"colab-df-container\">\n",
              "    <div>\n",
              "<style scoped>\n",
              "    .dataframe tbody tr th:only-of-type {\n",
              "        vertical-align: middle;\n",
              "    }\n",
              "\n",
              "    .dataframe tbody tr th {\n",
              "        vertical-align: top;\n",
              "    }\n",
              "\n",
              "    .dataframe thead th {\n",
              "        text-align: right;\n",
              "    }\n",
              "</style>\n",
              "<table border=\"1\" class=\"dataframe\">\n",
              "  <thead>\n",
              "    <tr style=\"text-align: right;\">\n",
              "      <th></th>\n",
              "      <th>SNo</th>\n",
              "      <th>date</th>\n",
              "      <th>heading</th>\n",
              "      <th>body</th>\n",
              "      <th>topic</th>\n",
              "    </tr>\n",
              "  </thead>\n",
              "  <tbody>\n",
              "    <tr>\n",
              "      <th>0</th>\n",
              "      <td>414</td>\n",
              "      <td>11-05-2017 00:39:13</td>\n",
              "      <td>ఐడిబిఐపై ఆర్‌బిఐ నజర్‌</td>\n",
              "      <td>భారీ ఎత్తున మొండిబకాయిలు పెరిగిపోవడంతో ఐడిబిఐ ...</td>\n",
              "      <td>business</td>\n",
              "    </tr>\n",
              "    <tr>\n",
              "      <th>1</th>\n",
              "      <td>2668</td>\n",
              "      <td>12-06-2017 00:40:32</td>\n",
              "      <td>బ్యాంకింగ్‌ చీఫ్‌లతో నేడు జైట్లీ భేటీ</td>\n",
              "      <td>న్యూఢిల్లీ : ఆర్థిక మంత్రి అరుణ్‌ జైట్లీ సోమవా...</td>\n",
              "      <td>business</td>\n",
              "    </tr>\n",
              "    <tr>\n",
              "      <th>2</th>\n",
              "      <td>19923</td>\n",
              "      <td>19-01-2017 19:51:31</td>\n",
              "      <td>కీలక వికెట్ తీసిన జడేజా..</td>\n",
              "      <td>కటక్: ఇంగ్లండ్‌తో జరుగుతున్న సెకండ్ వన్డే మ్యా...</td>\n",
              "      <td>sports</td>\n",
              "    </tr>\n",
              "    <tr>\n",
              "      <th>3</th>\n",
              "      <td>15762</td>\n",
              "      <td>23-11-2017 17:29:04</td>\n",
              "      <td>మరో రెచ్చగొట్టే చర్యకు దిగిన పాకిస్థాన్</td>\n",
              "      <td>\\nఇస్లామాబాద్ : పాకిస్థాన్ అంతర్జాతీయ ఉగ్రవాది...</td>\n",
              "      <td>nation</td>\n",
              "    </tr>\n",
              "    <tr>\n",
              "      <th>4</th>\n",
              "      <td>8624</td>\n",
              "      <td>03-04-2017 15:48:23</td>\n",
              "      <td>గోవాలో కొడుకుతో కలిసి అల్లు అర్జున్ స్విమ్మింగ్!</td>\n",
              "      <td>స్టార్‌ హీరోగా వరుస సినిమాలతో బిజీగా ఉన్నప్పటి...</td>\n",
              "      <td>entertainment</td>\n",
              "    </tr>\n",
              "  </tbody>\n",
              "</table>\n",
              "</div>\n",
              "    <div class=\"colab-df-buttons\">\n",
              "\n",
              "  <div class=\"colab-df-container\">\n",
              "    <button class=\"colab-df-convert\" onclick=\"convertToInteractive('df-70635541-ec12-465f-80e5-9fad8074f152')\"\n",
              "            title=\"Convert this dataframe to an interactive table.\"\n",
              "            style=\"display:none;\">\n",
              "\n",
              "  <svg xmlns=\"http://www.w3.org/2000/svg\" height=\"24px\" viewBox=\"0 -960 960 960\">\n",
              "    <path d=\"M120-120v-720h720v720H120Zm60-500h600v-160H180v160Zm220 220h160v-160H400v160Zm0 220h160v-160H400v160ZM180-400h160v-160H180v160Zm440 0h160v-160H620v160ZM180-180h160v-160H180v160Zm440 0h160v-160H620v160Z\"/>\n",
              "  </svg>\n",
              "    </button>\n",
              "\n",
              "  <style>\n",
              "    .colab-df-container {\n",
              "      display:flex;\n",
              "      gap: 12px;\n",
              "    }\n",
              "\n",
              "    .colab-df-convert {\n",
              "      background-color: #E8F0FE;\n",
              "      border: none;\n",
              "      border-radius: 50%;\n",
              "      cursor: pointer;\n",
              "      display: none;\n",
              "      fill: #1967D2;\n",
              "      height: 32px;\n",
              "      padding: 0 0 0 0;\n",
              "      width: 32px;\n",
              "    }\n",
              "\n",
              "    .colab-df-convert:hover {\n",
              "      background-color: #E2EBFA;\n",
              "      box-shadow: 0px 1px 2px rgba(60, 64, 67, 0.3), 0px 1px 3px 1px rgba(60, 64, 67, 0.15);\n",
              "      fill: #174EA6;\n",
              "    }\n",
              "\n",
              "    .colab-df-buttons div {\n",
              "      margin-bottom: 4px;\n",
              "    }\n",
              "\n",
              "    [theme=dark] .colab-df-convert {\n",
              "      background-color: #3B4455;\n",
              "      fill: #D2E3FC;\n",
              "    }\n",
              "\n",
              "    [theme=dark] .colab-df-convert:hover {\n",
              "      background-color: #434B5C;\n",
              "      box-shadow: 0px 1px 3px 1px rgba(0, 0, 0, 0.15);\n",
              "      filter: drop-shadow(0px 1px 2px rgba(0, 0, 0, 0.3));\n",
              "      fill: #FFFFFF;\n",
              "    }\n",
              "  </style>\n",
              "\n",
              "    <script>\n",
              "      const buttonEl =\n",
              "        document.querySelector('#df-70635541-ec12-465f-80e5-9fad8074f152 button.colab-df-convert');\n",
              "      buttonEl.style.display =\n",
              "        google.colab.kernel.accessAllowed ? 'block' : 'none';\n",
              "\n",
              "      async function convertToInteractive(key) {\n",
              "        const element = document.querySelector('#df-70635541-ec12-465f-80e5-9fad8074f152');\n",
              "        const dataTable =\n",
              "          await google.colab.kernel.invokeFunction('convertToInteractive',\n",
              "                                                    [key], {});\n",
              "        if (!dataTable) return;\n",
              "\n",
              "        const docLinkHtml = 'Like what you see? Visit the ' +\n",
              "          '<a target=\"_blank\" href=https://colab.research.google.com/notebooks/data_table.ipynb>data table notebook</a>'\n",
              "          + ' to learn more about interactive tables.';\n",
              "        element.innerHTML = '';\n",
              "        dataTable['output_type'] = 'display_data';\n",
              "        await google.colab.output.renderOutput(dataTable, element);\n",
              "        const docLink = document.createElement('div');\n",
              "        docLink.innerHTML = docLinkHtml;\n",
              "        element.appendChild(docLink);\n",
              "      }\n",
              "    </script>\n",
              "  </div>\n",
              "\n",
              "\n",
              "<div id=\"df-eef6fc7a-1ef3-41de-aba1-d566edd9529d\">\n",
              "  <button class=\"colab-df-quickchart\" onclick=\"quickchart('df-eef6fc7a-1ef3-41de-aba1-d566edd9529d')\"\n",
              "            title=\"Suggest charts\"\n",
              "            style=\"display:none;\">\n",
              "\n",
              "<svg xmlns=\"http://www.w3.org/2000/svg\" height=\"24px\"viewBox=\"0 0 24 24\"\n",
              "     width=\"24px\">\n",
              "    <g>\n",
              "        <path d=\"M19 3H5c-1.1 0-2 .9-2 2v14c0 1.1.9 2 2 2h14c1.1 0 2-.9 2-2V5c0-1.1-.9-2-2-2zM9 17H7v-7h2v7zm4 0h-2V7h2v10zm4 0h-2v-4h2v4z\"/>\n",
              "    </g>\n",
              "</svg>\n",
              "  </button>\n",
              "\n",
              "<style>\n",
              "  .colab-df-quickchart {\n",
              "      --bg-color: #E8F0FE;\n",
              "      --fill-color: #1967D2;\n",
              "      --hover-bg-color: #E2EBFA;\n",
              "      --hover-fill-color: #174EA6;\n",
              "      --disabled-fill-color: #AAA;\n",
              "      --disabled-bg-color: #DDD;\n",
              "  }\n",
              "\n",
              "  [theme=dark] .colab-df-quickchart {\n",
              "      --bg-color: #3B4455;\n",
              "      --fill-color: #D2E3FC;\n",
              "      --hover-bg-color: #434B5C;\n",
              "      --hover-fill-color: #FFFFFF;\n",
              "      --disabled-bg-color: #3B4455;\n",
              "      --disabled-fill-color: #666;\n",
              "  }\n",
              "\n",
              "  .colab-df-quickchart {\n",
              "    background-color: var(--bg-color);\n",
              "    border: none;\n",
              "    border-radius: 50%;\n",
              "    cursor: pointer;\n",
              "    display: none;\n",
              "    fill: var(--fill-color);\n",
              "    height: 32px;\n",
              "    padding: 0;\n",
              "    width: 32px;\n",
              "  }\n",
              "\n",
              "  .colab-df-quickchart:hover {\n",
              "    background-color: var(--hover-bg-color);\n",
              "    box-shadow: 0 1px 2px rgba(60, 64, 67, 0.3), 0 1px 3px 1px rgba(60, 64, 67, 0.15);\n",
              "    fill: var(--button-hover-fill-color);\n",
              "  }\n",
              "\n",
              "  .colab-df-quickchart-complete:disabled,\n",
              "  .colab-df-quickchart-complete:disabled:hover {\n",
              "    background-color: var(--disabled-bg-color);\n",
              "    fill: var(--disabled-fill-color);\n",
              "    box-shadow: none;\n",
              "  }\n",
              "\n",
              "  .colab-df-spinner {\n",
              "    border: 2px solid var(--fill-color);\n",
              "    border-color: transparent;\n",
              "    border-bottom-color: var(--fill-color);\n",
              "    animation:\n",
              "      spin 1s steps(1) infinite;\n",
              "  }\n",
              "\n",
              "  @keyframes spin {\n",
              "    0% {\n",
              "      border-color: transparent;\n",
              "      border-bottom-color: var(--fill-color);\n",
              "      border-left-color: var(--fill-color);\n",
              "    }\n",
              "    20% {\n",
              "      border-color: transparent;\n",
              "      border-left-color: var(--fill-color);\n",
              "      border-top-color: var(--fill-color);\n",
              "    }\n",
              "    30% {\n",
              "      border-color: transparent;\n",
              "      border-left-color: var(--fill-color);\n",
              "      border-top-color: var(--fill-color);\n",
              "      border-right-color: var(--fill-color);\n",
              "    }\n",
              "    40% {\n",
              "      border-color: transparent;\n",
              "      border-right-color: var(--fill-color);\n",
              "      border-top-color: var(--fill-color);\n",
              "    }\n",
              "    60% {\n",
              "      border-color: transparent;\n",
              "      border-right-color: var(--fill-color);\n",
              "    }\n",
              "    80% {\n",
              "      border-color: transparent;\n",
              "      border-right-color: var(--fill-color);\n",
              "      border-bottom-color: var(--fill-color);\n",
              "    }\n",
              "    90% {\n",
              "      border-color: transparent;\n",
              "      border-bottom-color: var(--fill-color);\n",
              "    }\n",
              "  }\n",
              "</style>\n",
              "\n",
              "  <script>\n",
              "    async function quickchart(key) {\n",
              "      const quickchartButtonEl =\n",
              "        document.querySelector('#' + key + ' button');\n",
              "      quickchartButtonEl.disabled = true;  // To prevent multiple clicks.\n",
              "      quickchartButtonEl.classList.add('colab-df-spinner');\n",
              "      try {\n",
              "        const charts = await google.colab.kernel.invokeFunction(\n",
              "            'suggestCharts', [key], {});\n",
              "      } catch (error) {\n",
              "        console.error('Error during call to suggestCharts:', error);\n",
              "      }\n",
              "      quickchartButtonEl.classList.remove('colab-df-spinner');\n",
              "      quickchartButtonEl.classList.add('colab-df-quickchart-complete');\n",
              "    }\n",
              "    (() => {\n",
              "      let quickchartButtonEl =\n",
              "        document.querySelector('#df-eef6fc7a-1ef3-41de-aba1-d566edd9529d button');\n",
              "      quickchartButtonEl.style.display =\n",
              "        google.colab.kernel.accessAllowed ? 'block' : 'none';\n",
              "    })();\n",
              "  </script>\n",
              "</div>\n",
              "\n",
              "    </div>\n",
              "  </div>\n"
            ],
            "application/vnd.google.colaboratory.intrinsic+json": {
              "type": "dataframe",
              "variable_name": "telugu_news_df",
              "summary": "{\n  \"name\": \"telugu_news_df\",\n  \"rows\": 17312,\n  \"fields\": [\n    {\n      \"column\": \"SNo\",\n      \"properties\": {\n        \"dtype\": \"number\",\n        \"std\": 6252,\n        \"min\": 0,\n        \"max\": 21639,\n        \"num_unique_values\": 17312,\n        \"samples\": [\n          10835,\n          16893,\n          16651\n        ],\n        \"semantic_type\": \"\",\n        \"description\": \"\"\n      }\n    },\n    {\n      \"column\": \"date\",\n      \"properties\": {\n        \"dtype\": \"string\",\n        \"num_unique_values\": 17312,\n        \"samples\": [\n          \"07-07-2017 11:14:11\",\n          \"06-02-2017 01:00:14\",\n          \"01-08-2017 16:53:10\"\n        ],\n        \"semantic_type\": \"\",\n        \"description\": \"\"\n      }\n    },\n    {\n      \"column\": \"heading\",\n      \"properties\": {\n        \"dtype\": \"string\",\n        \"num_unique_values\": 17220,\n        \"samples\": [\n          \"\\u0c06 \\u0c35\\u0c4d\\u0c2f\\u0c3e\\u0c38\\u0c02 \\u0c28\\u0c3e \\u0c05\\u0c02\\u0c24\\u0c1f \\u0c28\\u0c47\\u0c28\\u0c47 \\u0c30\\u0c3e\\u0c36\\u0c3e: \\u0c1c\\u0c2f\\u0c02\\u0c24\\u0c4d\\u200c\",\n          \"\\u2018\\u0c2a\\u0c17\\u0c4d\\u0c17\\u0c3e\\u0c32\\u0c41 \\u0c05\\u0c2a\\u0c4d\\u0c2a\\u0c17\\u0c3f\\u0c38\\u0c4d\\u0c24\\u0c3e\\u0c35\\u0c3e?... \\u0c28\\u0c28\\u0c4d\\u0c28\\u0c47 \\u0c2a\\u0c3e\\u0c30\\u0c4d\\u0c1f\\u0c40 \\u0c2a\\u0c46\\u0c1f\\u0c4d\\u0c1f\\u0c2e\\u0c02\\u0c1f\\u0c3e\\u0c35\\u0c3e?\\u2019\",\n          \"\\u0c2e\\u0c4b\\u0c26\\u0c40 \\u2018\\u0c15\\u0c4a\\u0c24\\u0c4d\\u0c24 \\u0c2d\\u0c3e\\u0c30\\u0c24\\u0c4d\\u2019 \\u0c07\\u0c26\\u0c47: \\u0c12\\u0c35\\u0c48\\u0c38\\u0c40\"\n        ],\n        \"semantic_type\": \"\",\n        \"description\": \"\"\n      }\n    },\n    {\n      \"column\": \"body\",\n      \"properties\": {\n        \"dtype\": \"string\",\n        \"num_unique_values\": 17306,\n        \"samples\": [\n          \"\\u0c36\\u0c4d\\u0c30\\u0c40\\u0c28\\u0c17\\u0c30\\u0c4d\\u200c, \\u0c28\\u0c35\\u0c02\\u0c2c\\u0c30\\u0c41 15: \\u0c28\\u0c47\\u0c37\\u0c28\\u0c32\\u0c4d\\u200c \\u0c15\\u0c3e\\u0c28\\u0c4d\\u0c2b\\u0c30\\u0c46\\u0c28\\u0c4d\\u0c38\\u0c4d\\u200c \\u0c05\\u0c27\\u0c3f\\u0c28\\u0c47\\u0c24 \\u0c2b\\u0c30\\u0c42\\u0c16\\u0c4d\\u200c \\u0c05\\u0c2c\\u0c4d\\u0c26\\u0c41\\u0c32\\u0c4d\\u0c32\\u0c3e \\u0c2e\\u0c33\\u0c4d\\u0c32\\u0c40 \\u0c2a\\u0c3e\\u0c15\\u0c3f\\u0c38\\u0c4d\\u0c25\\u0c3e\\u0c28\\u0c4d\\u200c \\u0c2a\\u0c3e\\u0c1f \\u0c2a\\u0c3e\\u0c21\\u0c3e\\u0c30\\u0c41. \\u0c2a\\u0c3e\\u0c15\\u0c4d\\u200c \\u0c06\\u0c15\\u0c4d\\u0c30\\u0c2e\\u0c3f\\u0c24 \\u0c15\\u0c3e\\u0c36\\u0c4d\\u0c2e\\u0c40\\u0c30\\u0c4d\\u200c (\\u0c2a\\u0c40\\u0c35\\u0c4b\\u0c15\\u0c47) \\u0c2d\\u0c3e\\u0c30\\u0c24\\u0c4d\\u200c\\u0c32\\u0c4b \\u0c05\\u0c02\\u0c24\\u0c30\\u0c4d\\u0c2d\\u0c3e\\u0c17\\u0c02 \\u0c15\\u0c3e\\u0c26\\u0c02\\u0c1f\\u0c42 \\u0c35\\u0c4d\\u0c2f\\u0c3e\\u0c16\\u0c4d\\u0c2f\\u0c32\\u0c41 \\u0c1a\\u0c47\\u0c38\\u0c3f\\u0c28 \\u0c35\\u0c3e\\u0c30\\u0c02\\u0c32\\u0c4b\\u0c28\\u0c47 \\u0c2e\\u0c30\\u0c4b \\u0c35\\u0c3f\\u0c35\\u0c3e\\u0c26\\u0c3e\\u0c28\\u0c3f\\u0c15\\u0c3f \\u0c24\\u0c46\\u0c30\\u0c24\\u0c40\\u0c36\\u0c3e\\u0c30\\u0c41. \\u0c2a\\u0c40\\u0c35\\u0c4b\\u0c15\\u0c47 \\u0c35\\u0c3f\\u0c37\\u0c2f\\u0c02\\u0c32\\u0c4b \\u0c1a\\u0c42\\u0c38\\u0c4d\\u0c24\\u0c42 \\u0c0a\\u0c30\\u0c41\\u0c15\\u0c4b\\u0c35\\u0c21\\u0c3e\\u0c28\\u0c3f\\u0c15\\u0c3f \\u0c2a\\u0c3e\\u0c15\\u0c3f\\u0c38\\u0c4d\\u0c25\\u0c3e\\u0c28\\u0c4d\\u200c \\u0c17\\u0c3e\\u0c1c\\u0c41\\u0c32\\u0c41 \\u0c24\\u0c4a\\u0c21\\u0c41\\u0c15\\u0c4d\\u0c15\\u0c4b\\u0c32\\u0c47\\u0c26\\u0c02\\u0c1f\\u0c42 \\u0c2c\\u0c3e\\u0c30\\u0c3e\\u0c2e\\u0c41\\u0c32\\u0c4d\\u0c32\\u0c3e\\u0c32\\u0c4b \\u0c35\\u0c4d\\u0c2f\\u0c3e\\u0c16\\u0c4d\\u0c2f\\u0c3e\\u0c28\\u0c3f\\u0c02\\u0c1a\\u0c3e\\u0c30\\u0c41. \\u2018\\u0c2a\\u0c40\\u0c35\\u0c4b\\u0c15\\u0c47 \\u0c2d\\u0c3e\\u0c30\\u0c24\\u0c4d\\u200c\\u0c32\\u0c4b \\u0c05\\u0c02\\u0c24\\u0c30\\u0c4d\\u0c2d\\u0c3e\\u0c17\\u0c2e\\u0c02\\u0c1f\\u0c47 \\u0c1a\\u0c42\\u0c38\\u0c4d\\u0c24\\u0c42 \\u0c0a\\u0c30\\u0c41\\u0c15\\u0c4b\\u0c35\\u0c21\\u0c3e\\u0c28\\u0c3f\\u0c15\\u0c3f \\u0c2a\\u0c3e\\u0c15\\u0c4d\\u200c \\u0c17\\u0c3e\\u0c1c\\u0c41\\u0c32\\u0c41 \\u0c24\\u0c4a\\u0c21\\u0c41\\u0c15\\u0c4d\\u0c15\\u0c41\\u0c28\\u0c3f \\u0c15\\u0c42\\u0c30\\u0c4d\\u0c1a\\u0c4b\\u0c32\\u0c47\\u0c26\\u0c41. \\u0c35\\u0c3e\\u0c33\\u0c4d\\u0c32\\u0c47\\u0c02 \\u0c2c\\u0c32\\u0c39\\u0c40\\u0c28\\u0c41\\u0c32\\u0c41 \\u0c15\\u0c3e\\u0c26\\u0c41. \\u0c2a\\u0c3e\\u0c15\\u0c4d\\u200c \\u0c26\\u0c17\\u0c4d\\u0c17\\u0c30\\u0c3e \\u0c05\\u0c23\\u0c41\\u0c2c\\u0c3e\\u0c02\\u0c2c\\u0c41\\u0c32\\u0c41\\u0c28\\u0c4d\\u0c28\\u0c3e\\u0c2f\\u0c3f.\\u00a0\\u0c2f\\u0c41\\u0c26\\u0c4d\\u0c27\\u0c02 \\u0c17\\u0c41\\u0c30\\u0c3f\\u0c02\\u0c1a\\u0c3f \\u0c06\\u0c32\\u0c4b\\u0c1a\\u0c3f\\u0c02\\u0c1a\\u0c47  \\u0c2e\\u0c41\\u0c02\\u0c26\\u0c41 \\u0c07\\u0c15\\u0c4d\\u0c15\\u0c21 \\u0c2e\\u0c28\\u0c41\\u0c37\\u0c41\\u0c32\\u0c41\\u0c17\\u0c3e \\u0c2c\\u0c24\\u0c17\\u0c4d\\u0c17\\u0c32\\u0c2e\\u0c3e \\u0c05\\u0c28\\u0c3f \\u0c06\\u0c32\\u0c4b\\u0c1a\\u0c3f\\u0c02\\u0c1a\\u0c3e\\u0c32\\u0c3f\\u2019 \\u0c05\\u0c02\\u0c1f\\u0c42 \\u0c2b\\u0c30\\u0c42\\u0c16\\u0c4d\\u200c \\u0c05\\u0c2c\\u0c4d\\u0c26\\u0c41\\u0c32\\u0c4d\\u0c32\\u0c3e \\u0c05\\u0c28\\u0c4d\\u0c28 \\u0c2e\\u0c3e\\u0c1f\\u0c32\\u0c41 \\u0c2e\\u0c02\\u0c1f\\u0c32\\u0c41 \\u0c30\\u0c47\\u0c2a\\u0c41\\u0c24\\u0c41\\u0c28\\u0c4d\\u0c28\\u0c3e\\u0c2f\\u0c3f. \\u2018\\u0c2a\\u0c40\\u0c35\\u0c4b\\u0c15\\u0c47 \\u0c2d\\u0c3e\\u0c30\\u0c24\\u0c4d\\u200c\\u0c32\\u0c4b \\u0c05\\u0c02\\u0c24\\u0c30\\u0c4d\\u0c2d\\u0c3e\\u0c17\\u0c2e\\u0c28\\u0c3f \\u0c07\\u0c02\\u0c15\\u0c3e \\u0c0e\\u0c02\\u0c24\\u0c15\\u0c3e\\u0c32\\u0c02 \\u0c1a\\u0c46\\u0c2c\\u0c41\\u0c24\\u0c42 \\u0c35\\u0c38\\u0c4d\\u0c24\\u0c3e\\u0c30\\u0c41? 70 \\u0c0f\\u0c33\\u0c4d\\u0c32\\u0c41 \\u0c17\\u0c21\\u0c3f\\u0c1a\\u0c3f\\u0c2a\\u0c4b\\u0c2f\\u0c3e\\u0c2f\\u0c3f. \\u0c15\\u0c3e\\u0c28\\u0c40 \\u0c2a\\u0c40\\u0c35\\u0c4b\\u0c15\\u0c47\\u0c28\\u0c3f \\u0c2d\\u0c3e\\u0c30\\u0c24\\u0c4d\\u200c \\u0c38\\u0c4a\\u0c02\\u0c24\\u0c02 \\u0c1a\\u0c47\\u0c38\\u0c41\\u0c15\\u0c4b\\u0c32\\u0c47\\u0c15\\u0c2a\\u0c4b\\u0c2f\\u0c3f\\u0c02\\u0c26\\u0c3f. \\u0c2e\\u0c41\\u0c2e\\u0c4d\\u0c2e\\u0c3e\\u0c1f\\u0c3f\\u0c15\\u0c40 \\u0c2a\\u0c40\\u0c35\\u0c4b\\u0c15\\u0c47 \\u0c2a\\u0c3e\\u0c15\\u0c3f\\u0c38\\u0c4d\\u0c25\\u0c3e\\u0c28\\u0c4d\\u200c\\u0c32\\u0c4b \\u0c05\\u0c02\\u0c24\\u0c30\\u0c4d\\u0c2d\\u0c3e\\u0c17\\u0c2e\\u0c47\\u2019 \\u0c05\\u0c28\\u0c4d\\u0c28 \\u0c2b\\u0c30\\u0c42\\u0c16\\u0c4d\\u200c \\u0c2e\\u0c3e\\u0c1f\\u0c32\\u0c41 \\u0c1a\\u0c30\\u0c4d\\u0c1a\\u0c28\\u0c40\\u0c2f\\u0c3e\\u0c02\\u0c36\\u0c2e\\u0c2f\\u0c4d\\u0c2f\\u0c3e\\u0c2f\\u0c3f.\",\n          \"\\n\\u0c38\\u0c41\\u0c2a\\u0c4d\\u0c30\\u0c40\\u0c02\\u0c28\\u0c41 \\u0c15\\u0c4b\\u0c30\\u0c3f\\u0c28 \\u0c15\\u0c47\\u0c02\\u0c26\\u0c4d\\u0c30\\u0c02 \\u0c28\\u0c4d\\u0c2f\\u0c42\\u0c22\\u0c3f\\u0c32\\u0c4d\\u0c32\\u0c40, \\u0c1c\\u0c28\\u0c35\\u0c30\\u0c3f 30: \\u0c09\\u0c28\\u0c4d\\u0c28\\u0c24 \\u0c28\\u0c4d\\u0c2f\\u0c3e\\u0c2f\\u0c38\\u0c4d\\u0c25\\u0c3e\\u0c28\\u0c3e\\u0c32\\u0c4d\\u0c32\\u0c4b \\u0c28\\u0c4d\\u0c2f\\u0c3e\\u0c2f\\u0c2e\\u0c42\\u0c30\\u0c4d\\u0c24\\u0c41\\u0c32 \\u0c28\\u0c3f\\u0c2f\\u0c3e\\u0c2e\\u0c15\\u0c02 \\u0c35\\u0c02\\u0c1f\\u0c3f \\u0c38\\u0c02\\u0c38\\u0c4d\\u0c15\\u0c30\\u0c23\\u0c32\\u0c2a\\u0c48 \\u0c26\\u0c3e\\u0c16\\u0c32\\u0c48\\u0c28 \\u0c2a\\u0c3f\\u0c1f\\u0c3f\\u0c37\\u0c28\\u0c4d\\u0c32\\u0c28\\u0c41 \\u0c15\\u0c4a\\u0c1f\\u0c4d\\u0c1f\\u0c3f\\u0c35\\u0c47\\u0c2f\\u0c3e\\u0c32\\u0c28\\u0c3f \\u0c38\\u0c41\\u0c2a\\u0c4d\\u0c30\\u0c40\\u0c02 \\u0c15\\u0c4b\\u0c30\\u0c4d\\u0c1f\\u0c41\\u0c28\\u0c41 \\u0c15\\u0c47\\u0c02 \\u0c26\\u0c4d\\u0c30\\u0c02 \\u0c15\\u0c4b\\u0c30\\u0c3f\\u0c02\\u0c26\\u0c3f. \\u0c2a\\u0c3e\\u0c32\\u0c28\\u0c2a\\u0c30\\u0c02\\u0c17\\u0c3e \\u0c06 \\u0c05\\u0c02\\u0c36\\u0c3e\\u0c32\\u0c28\\u0c41 \\u0c2a\\u0c30\\u0c3f\\u0c37\\u0c4d\\u0c15\\u0c30\\u0c3f\\u0c38\\u0c4d\\u0c24\\u0c41\\u0c28\\u0c4d\\u0c28\\u0c3e\\u0c2e\\u0c28\\u0c3f, \\u0c35\\u0c3e\\u0c1f\\u0c3f\\u0c28\\u0c3f \\u0c15\\u0c4b\\u0c30\\u0c4d\\u0c1f\\u0c41\\u0c32\\u0c4b \\u0c35\\u0c3f\\u0c1a\\u0c3e\\u0c30\\u0c3f\\u0c02\\u0c1a\\u0c30\\u0c3e\\u0c26\\u0c28\\u0c3f \\u0c0f\\u0c1c\\u0c40 \\u0c2e\\u0c41\\u0c15\\u0c41\\u0c32\\u0c4d\\u200c \\u0c30\\u0c4b\\u0c39\\u0c24\\u0c4d\\u0c17\\u0c40 \\u0c24\\u0c46\\u0c32\\u0c3f\\u0c2a\\u0c3e\\u0c30\\u0c41. \\u0c08 \\u0c2a\\u0c3f\\u0c1f\\u0c3f\\u0c37\\u0c28\\u0c4d\\u0c32\\u0c2a\\u0c48 \\u0c28\\u0c46\\u0c32 \\u0c30\\u0c4b\\u0c1c\\u0c41\\u0c32 \\u0c24\\u0c30\\u0c4d\\u0c35\\u0c3e\\u0c24 \\u0c35\\u0c3e\\u0c1f\\u0c3f\\u0c28\\u0c3f \\u0c2a\\u0c30\\u0c3f\\u0c17\\u0c23\\u0c28\\u0c32\\u0c4b\\u0c15\\u0c3f \\u0c24\\u0c40\\u0c38\\u0c41\\u0c15\\u0c41\\u0c02\\u0c1f\\u0c3e\\u0c2e\\u0c28\\u0c3f \\u0c1c\\u0c38\\u0c4d\\u0c1f\\u0c3f\\u0c38\\u0c4d\\u200c \\u0c1c\\u0c47\\u0c0e\\u0c38\\u0c4d\\u200c \\u0c16\\u0c47\\u0c39\\u0c30\\u0c4d\\u200c, \\u0c1c\\u0c38\\u0c4d\\u0c1f\\u0c3f\\u0c38\\u0c4d\\u200c \\u0c0e\\u0c28\\u0c4d\\u0c35\\u0c40 \\u0c30\\u0c2e\\u0c23\\u0c32\\u0c24\\u0c4b \\u0c15\\u0c42\\u0c21\\u0c3f\\u0c28 \\u0c27\\u0c30\\u0c4d\\u0c2e\\u0c3e\\u0c38\\u0c28\\u0c02 \\u0c38\\u0c4d\\u0c2a\\u0c37\\u0c4d\\u0c1f\\u0c02 \\u0c1a\\u0c47\\u0c38\\u0c3f\\u0c02\\u0c26\\u0c3f. \\u0c05\\u0c02\\u0c24\\u0c15\\u0c41\\u0c2e\\u0c41\\u0c02\\u0c26\\u0c41, \\u0c15\\u0c4a\\u0c32\\u0c40\\u0c1c\\u0c3f\\u0c2f\\u0c02 \\u0c38\\u0c3f\\u0c2b\\u0c3e\\u0c30\\u0c38\\u0c41 \\u0c1a\\u0c47\\u0c38\\u0c3f\\u0c28\\u0c3e \\u0c39\\u0c48\\u0c15\\u0c4b\\u0c30\\u0c4d\\u0c1f\\u0c41 \\u0c38\\u0c40\\u0c1c\\u0c47, \\u0c28\\u0c4d\\u0c2f\\u0c3e\\u0c2f\\u0c2e\\u0c42\\u0c30\\u0c4d\\u0c24\\u0c41\\u0c32\\u0c28\\u0c41 \\u0c0e\\u0c02\\u0c26\\u0c41\\u0c15\\u0c41 \\u0c2c\\u0c26\\u0c3f\\u0c32\\u0c40 \\u0c1a\\u0c47\\u0c2f\\u0c32\\u0c47\\u0c26\\u0c28\\u0c3f \\u0c38\\u0c41\\u0c2a\\u0c4d\\u0c30\\u0c40\\u0c02 \\u0c2a\\u0c4d\\u0c30\\u0c36\\u0c4d\\u0c28\\u0c3f\\u0c02\\u0c1a\\u0c3f\\u0c28 \\u0c35\\u0c3f\\u0c37\\u0c2f\\u0c02 \\u0c24\\u0c46\\u0c32\\u0c3f\\u0c38\\u0c3f\\u0c02\\u0c26\\u0c47.\",\n          \"\\n\\u0c38\\u0c3f\\u0c2c\\u0c4d\\u0c2c\\u0c02\\u0c26\\u0c3f \\u0c28\\u0c46\\u0c1f\\u0c4d\\u0c1f\\u0c47\\u0c38\\u0c3f\\u0c28\\u0c3e.. \\u0c26\\u0c17\\u0c4d\\u0c17\\u0c30\\u0c15\\u0c41 \\u0c2a\\u0c3f\\u0c32\\u0c3f\\u0c2a\\u0c3f\\u0c02\\u0c1a\\u0c41\\u0c15\\u0c41\\u0c28\\u0c4d\\u0c28 \\u0c38\\u0c1a\\u0c3f\\u0c28\\u0c4d\\u200c\\u0c36\\u0c4d\\u0c30\\u0c40\\u0c35\\u0c3e\\u0c30\\u0c3f \\u0c1a\\u0c3f\\u0c24\\u0c4d\\u0c30\\u0c2a\\u0c1f\\u0c02 \\u0c38\\u0c4d\\u0c35\\u0c40\\u0c15\\u0c30\\u0c23\\u0c24\\u0c3f\\u0c30\\u0c41\\u0c2e\\u0c32: \\u0c06\\u0c1f\\u0c15\\u0c41 \\u0c26\\u0c42\\u0c30\\u0c2e\\u0c48\\u0c28\\u0c3e \\u0c05\\u0c2d\\u0c3f\\u0c2e\\u0c3e\\u0c28\\u0c41\\u0c32\\u0c15\\u0c41 \\u0c2e\\u0c3e\\u0c24\\u0c4d\\u0c30\\u0c02 \\u0c0e\\u0c2a\\u0c4d\\u0c2a\\u0c41\\u0c21\\u0c42 \\u0c26\\u0c17\\u0c4d\\u0c17\\u0c30\\u0c17\\u0c3e\\u0c28\\u0c47 \\u0c09\\u0c02\\u0c1f\\u0c3e\\u0c28\\u0c28\\u0c3f \\u0c15\\u0c4d\\u0c30\\u0c3f\\u0c15\\u0c46\\u0c1f\\u0c4d\\u200c \\u0c26\\u0c3f\\u0c17\\u0c4d\\u0c17\\u0c1c\\u0c02 \\u0c38\\u0c1a\\u0c3f\\u0c28\\u0c4d\\u200c \\u0c1f\\u0c46\\u0c02\\u0c21\\u0c42\\u0c32\\u0c4d\\u0c15\\u0c30\\u0c4d\\u200c \\u0c2e\\u0c30\\u0c4b\\u0c38\\u0c3e\\u0c30\\u0c3f \\u0c28\\u0c3f\\u0c30\\u0c42\\u0c2a\\u0c3f\\u0c02\\u0c1a\\u0c3e \\u0c30\\u0c41. \\u0c24\\u0c28\\u0c28\\u0c41 \\u0c15\\u0c32\\u0c3f\\u0c38\\u0c47\\u0c02\\u0c26\\u0c41\\u0c15\\u0c41 \\u0c35\\u0c1a\\u0c4d\\u0c1a\\u0c3f\\u0c28 \\u0c05\\u0c2d\\u0c3f\\u0c2e\\u0c3e\\u0c28\\u0c3f\\u0c28\\u0c3f \\u0c05\\u0c27\\u0c3f\\u0c15\\u0c3e\\u0c30\\u0c41\\u0c32\\u0c41, \\u0c38\\u0c46\\u0c15\\u0c4d\\u0c2f\\u0c42\\u0c30\\u0c3f\\u0c1f\\u0c40 \\u0c38\\u0c3f\\u0c2c\\u0c4d\\u0c2c\\u0c02\\u0c26\\u0c3f \\u0c26\\u0c42\\u0c30\\u0c02\\u0c17\\u0c3e \\u0c28\\u0c46\\u0c1f\\u0c4d\\u0c1f\\u0c47\\u0c38\\u0c3f\\u0c28\\u0c3e.. \\u0c38\\u0c1a\\u0c3f\\u0c28\\u0c4d\\u200c \\u0c2e\\u0c3e\\u0c24\\u0c4d\\u0c30\\u0c02 \\u0c05\\u0c24\\u0c28\\u0c4d\\u0c28\\u0c3f \\u0c26\\u0c17\\u0c4d\\u0c17\\u0c30\\u0c15\\u0c41 \\u0c2a\\u0c3f\\u0c32\\u0c3f\\u0c2a\\u0c3f\\u0c02\\u0c1a\\u0c41 \\u0c15\\u0c41\\u0c28\\u0c4d\\u0c28\\u0c3e\\u0c21\\u0c41. \\u0c05\\u0c24\\u0c21\\u0c3f \\u0c1a\\u0c4d\\u0c1a\\u0c3f\\u0c28 \\u0c36\\u0c4d\\u0c30\\u0c40\\u0c35\\u0c47\\u0c02\\u0c15\\u0c1f\\u0c47\\u0c36\\u0c4d\\u0c35\\u0c30 \\u0c38\\u0c4d\\u0c35\\u0c3e\\u0c2e\\u0c3f \\u0c1a\\u0c3f\\u0c24\\u0c4d\\u0c30\\u0c2a\\u0c1f\\u0c3e\\u0c28\\u0c4d\\u0c28\\u0c3f \\u0c24\\u0c40\\u0c38\\u0c41\\u0c15\\u0c41\\u0c28\\u0c3f \\u0c27\\u0c28\\u0c4d\\u0c2f\\u0c35\\u0c3e\\u0c26\\u0c3e\\u0c32\\u0c41 \\u0c1a\\u0c46\\u0c2a\\u0c4d\\u0c2a\\u0c3e\\u0c30\\u0c41. \\u0c08 \\u0c18\\u0c1f\\u0c28 \\u0c24\\u0c3f\\u0c30\\u0c41\\u0c2e\\u0c32 \\u0c36\\u0c4d\\u0c30\\u0c40\\u0c35\\u0c3e\\u0c30\\u0c3f \\u0c06\\u0c32 \\u0c2f\\u0c02 \\u0c35\\u0c46\\u0c32\\u0c41\\u0c2a\\u0c32 \\u0c17\\u0c41\\u0c30\\u0c41\\u0c35\\u0c3e\\u0c30\\u0c02 \\u0c09\\u0c26 \\u0c2f\\u0c02 \\u0c1a\\u0c4b\\u0c1f\\u0c41\\u0c1a\\u0c47\\u0c38\\u0c41\\u0c15\\u0c41\\u0c02 \\u0c26\\u0c3f. \\u0c36\\u0c4d\\u0c30\\u0c40\\u0c35\\u0c47\\u0c02\\u0c15\\u0c1f\\u0c47\\u0c36\\u0c4d\\u0c35\\u0c30 \\u0c38\\u0c4d\\u0c35\\u0c3e\\u0c2e\\u0c3f\\u0c28\\u0c3f \\u0c26\\u0c30\\u0c4d\\u0c36\\u0c3f\\u0c02\\u0c1a\\u0c41 \\u0c15\\u0c41\\u0c28\\u0c4d\\u0c28 \\u0c38\\u0c1a\\u0c3f\\u0c28\\u0c4d\\u200c \\u0c15\\u0c1f\\u0c4d\\u0c1f\\u0c41 \\u0c26\\u0c3f\\u0c1f\\u0c4d\\u0c1f\\u0c2e\\u0c48\\u0c28 \\u0c2d\\u0c26\\u0c4d\\u0c30\\u0c24 \\u0c28\\u0c21\\u0c41\\u0c2e \\u0c06\\u0c32\\u0c2f\\u0c02 \\u0c35\\u0c46\\u0c32\\u0c41\\u0c2a\\u0c32\\u0c15\\u0c41 \\u0c35\\u0c1a\\u0c4d\\u0c1a\\u0c3e \\u0c21\\u0c41. \\u0c24\\u0c28\\u0c15\\u0c3f \\u0c37\\u0c4d\\u0c1f\\u0c2e\\u0c48\\u0c28 \\u0c15\\u0c4d\\u0c30\\u0c3f\\u0c15\\u0c46\\u0c1f\\u0c30\\u0c4d\\u200c\\u0c28\\u0c41 \\u0c15\\u0c32\\u0c3f\\u0c38\\u0c3f \\u0c36\\u0c4d\\u0c30\\u0c40\\u0c35\\u0c3e\\u0c30\\u0c3f \\u0c1a\\u0c3f\\u0c24\\u0c4d\\u0c30\\u0c2a\\u0c1f\\u0c02 \\u0c2c\\u0c39\\u0c42\\u0c15\\u0c30\\u0c3f\\u0c02\\u0c1a\\u0c3e\\u0c32\\u0c28\\u0c3f \\u0c24\\u0c3f\\u0c30\\u0c41\\u0c2e\\u0c32\\u0c15\\u0c41 \\u0c1a\\u0c46\\u0c02\\u0c26\\u0c3f\\u0c28 \\u0c2e\\u0c41\\u0c28\\u0c3f\\u0c1a\\u0c02\\u0c26\\u0c4d\\u0c30 \\u0c06\\u0c32\\u0c2f\\u0c02 \\u0c35\\u0c46\\u0c32\\u0c41\\u0c2a\\u0c32 \\u0c06\\u0c36\\u0c17\\u0c3e  \\u0c0e\\u0c26\\u0c41\\u0c30\\u0c41\\u0c1a\\u0c42\\u0c38\\u0c4d\\u0c24\\u0c42 \\u0c28\\u0c3f\\u0c32\\u0c41\\u0c1a\\u0c41\\u0c28\\u0c4d\\u0c28\\u0c3e\\u0c21\\u0c41. \\u0c38\\u0c1a\\u0c3f\\u0c28\\u0c4d\\u200c \\u0c2c\\u0c2f \\u0c1f\\u0c15\\u0c41\\u0c30\\u0c3e\\u0c17\\u0c3e\\u0c28\\u0c47 \\u0c05\\u0c24\\u0c28\\u0c3f \\u0c26\\u0c17\\u0c4d\\u0c17\\u0c30\\u0c15\\u0c41 \\u0c1a\\u0c47\\u0c30\\u0c41\\u0c15\\u0c41\\u0c28\\u0c3f \\u0c1a\\u0c3f\\u0c24\\u0c4d\\u0c30\\u0c2a\\u0c1f\\u0c02 \\u0c07\\u0c1a\\u0c4d\\u0c1a\\u0c47\\u0c02\\u0c26\\u0c41\\u0c15\\u0c41 \\u0c2a\\u0c4d\\u0c30\\u0c2f\\u0c24\\u0c4d\\u0c28\\u0c3f\\u0c02 \\u0c1a\\u0c3e\\u0c21\\u0c41. \\u0c05\\u0c2f\\u0c3f\\u0c24\\u0c47 \\u0c05\\u0c27\\u0c3f\\u0c15\\u0c3e\\u0c30\\u0c41\\u0c32\\u0c41, \\u0c38\\u0c46\\u0c15\\u0c4d\\u0c2f\\u0c42\\u0c30\\u0c3f\\u0c1f\\u0c40 \\u0c38\\u0c3f\\u0c2c\\u0c4d\\u0c2c\\u0c02\\u0c26\\u0c3f \\u0c05\\u0c24\\u0c28\\u0c4d\\u0c28\\u0c3f \\u0c05\\u0c21\\u0c4d\\u0c21\\u0c41\\u0c15\\u0c41\\u0c28\\u0c3f \\u0c2a\\u0c15\\u0c4d\\u0c15\\u0c15\\u0c41 \\u0c24\\u0c4b\\u0c38\\u0c47\\u0c36\\u0c3e\\u0c30\\u0c41. \\u0c07\\u0c26\\u0c02\\u0c24\\u0c3e \\u0c17\\u0c2e\\u0c28\\u0c3f\\u0c02\\u0c1a\\u0c3f\\u0c28 \\u0c38\\u0c1a\\u0c3f \\u0c28\\u0c4d\\u200c.. \\u0c06 \\u0c05\\u0c2d\\u0c3f\\u0c2e\\u0c3e\\u0c28\\u0c3f\\u0c28\\u0c3f \\u0c26\\u0c17\\u0c4d\\u0c17\\u0c30\\u0c3f\\u0c15\\u0c3f \\u0c30\\u0c2e\\u0c4d\\u0c2e\\u0c28\\u0c3f \\u0c38\\u0c48\\u0c17 \\u0c1a\\u0c47\\u0c36\\u0c3e\\u0c30\\u0c41. \\u0c05\\u0c24\\u0c21\\u0c3f\\u0c28\\u0c3f \\u0c24\\u0c40\\u0c38\\u0c41\\u0c15\\u0c41\\u0c30\\u0c3e\\u0c35\\u0c3e\\u0c32\\u0c02\\u0c1f\\u0c42 \\u0c38\\u0c46\\u0c15\\u0c4d\\u0c2f\\u0c42\\u0c30\\u0c3f\\u0c1f\\u0c40 \\u0c38\\u0c3f\\u0c2c\\u0c4d\\u0c2c\\u0c02 \\u0c26\\u0c3f\\u0c28\\u0c3f \\u0c06\\u0c26\\u0c47\\u0c36\\u0c3f\\u0c02\\u0c1a\\u0c3e\\u0c30\\u0c41. \\u0c26\\u0c40\\u0c02\\u0c24\\u0c4b \\u0c2e\\u0c41\\u0c28\\u0c3f\\u0c1a\\u0c02\\u0c26\\u0c4d\\u0c30\\u0c28\\u0c41 \\u0c38\\u0c46\\u0c15\\u0c4d\\u0c2f\\u0c42\\u0c30\\u0c3f\\u0c1f\\u0c40 \\u0c38\\u0c3f\\u0c2c\\u0c4d\\u0c2c\\u0c02\\u0c26\\u0c47 \\u0c24\\u0c3f\\u0c30\\u0c3f\\u0c17\\u0c3f \\u0c2e\\u0c3e\\u0c38\\u0c4d\\u0c1f\\u0c30\\u0c4d\\u200c \\u0c35\\u0c26\\u0c4d\\u0c26\\u0c15\\u0c41 \\u0c24\\u0c40\\u0c38\\u0c41\\u0c15\\u0c4a \\u0c1a\\u0c4d\\u0c1a\\u0c3e\\u0c30\\u0c41. \\u0c24\\u0c28 \\u0c07\\u0c37\\u0c4d\\u0c1f\\u0c26\\u0c48\\u0c35\\u0c02 \\u0c24\\u0c28\\u0c28\\u0c41 \\u0c26\\u0c17\\u0c4d\\u0c17\\u0c30\\u0c15\\u0c41 \\u0c2a\\u0c3f\\u0c32\\u0c35 \\u0c21\\u0c02\\u0c24\\u0c4b \\u0c2e\\u0c41\\u0c28\\u0c3f\\u0c1a\\u0c02\\u0c26\\u0c4d\\u0c30 \\u0c06\\u0c28\\u0c02\\u0c26\\u0c02\\u0c24\\u0c4b \\u0c09\\u0c2a\\u0c4d\\u0c2a\\u0c4a\\u0c02\\u0c17\\u0c3f \\u0c2a\\u0c4b\\u0c2f\\u0c3e\\u0c21\\u0c41. \\u0c24\\u0c28 \\u0c1a\\u0c47\\u0c24\\u0c3f\\u0c32\\u0c4b \\u0c09\\u0c28\\u0c4d\\u0c28 \\u0c36\\u0c4d\\u0c30\\u0c40\\u0c35\\u0c3e\\u0c30\\u0c3f \\u0c1a\\u0c3f\\u0c24\\u0c4d\\u0c30\\u0c2a\\u0c1f\\u0c3e\\u0c28\\u0c4d\\u0c28\\u0c3f \\u0c38\\u0c1a\\u0c3f\\u0c28\\u0c4d\\u200c\\u0c15\\u0c41 \\u0c05\\u0c02\\u0c26\\u0c3f\\u0c02\\u0c1a\\u0c3e\\u0c21\\u0c41. \\u0c06 \\u0c05\\u0c2d\\u0c3f\\u0c2e\\u0c3e\\u0c28\\u0c3f\\u0c24\\u0c4b \\u0c38\\u0c1a\\u0c3f\\u0c28\\u0c4d\\u200c \\u0c2b\\u0c4a\\u0c1f\\u0c4b \\u0c26\\u0c3f\\u0c17\\u0c3e\\u0c21\\u0c41..\"\n        ],\n        \"semantic_type\": \"\",\n        \"description\": \"\"\n      }\n    },\n    {\n      \"column\": \"topic\",\n      \"properties\": {\n        \"dtype\": \"category\",\n        \"num_unique_values\": 5,\n        \"samples\": [\n          \"sports\",\n          \"editorial\",\n          \"nation\"\n        ],\n        \"semantic_type\": \"\",\n        \"description\": \"\"\n      }\n    }\n  ]\n}"
            }
          },
          "metadata": {},
          "execution_count": 5
        }
      ]
    },
    {
      "cell_type": "code",
      "source": [
        "telugu_news_df[telugu_news_df[\"heading\"].isna() == True]\n"
      ],
      "metadata": {
        "colab": {
          "base_uri": "https://localhost:8080/",
          "height": 81
        },
        "id": "7FY8ExvgX2nX",
        "outputId": "7934e858-a5f0-4f9a-f5b3-058190060b7d"
      },
      "execution_count": null,
      "outputs": [
        {
          "output_type": "execute_result",
          "data": {
            "text/plain": [
              "        SNo                 date heading  \\\n",
              "8073  14673  20-02-2017 15:23:53     NaN   \n",
              "\n",
              "                                                   body   topic  \n",
              "8073  ఈ కిరాతకుడు 200 మందిని అత్యాచారం చేసి.. 500 మం...  nation  "
            ],
            "text/html": [
              "\n",
              "  <div id=\"df-20d3afe9-487f-4c97-b972-55532e64b93a\" class=\"colab-df-container\">\n",
              "    <div>\n",
              "<style scoped>\n",
              "    .dataframe tbody tr th:only-of-type {\n",
              "        vertical-align: middle;\n",
              "    }\n",
              "\n",
              "    .dataframe tbody tr th {\n",
              "        vertical-align: top;\n",
              "    }\n",
              "\n",
              "    .dataframe thead th {\n",
              "        text-align: right;\n",
              "    }\n",
              "</style>\n",
              "<table border=\"1\" class=\"dataframe\">\n",
              "  <thead>\n",
              "    <tr style=\"text-align: right;\">\n",
              "      <th></th>\n",
              "      <th>SNo</th>\n",
              "      <th>date</th>\n",
              "      <th>heading</th>\n",
              "      <th>body</th>\n",
              "      <th>topic</th>\n",
              "    </tr>\n",
              "  </thead>\n",
              "  <tbody>\n",
              "    <tr>\n",
              "      <th>8073</th>\n",
              "      <td>14673</td>\n",
              "      <td>20-02-2017 15:23:53</td>\n",
              "      <td>NaN</td>\n",
              "      <td>ఈ కిరాతకుడు 200 మందిని అత్యాచారం చేసి.. 500 మం...</td>\n",
              "      <td>nation</td>\n",
              "    </tr>\n",
              "  </tbody>\n",
              "</table>\n",
              "</div>\n",
              "    <div class=\"colab-df-buttons\">\n",
              "\n",
              "  <div class=\"colab-df-container\">\n",
              "    <button class=\"colab-df-convert\" onclick=\"convertToInteractive('df-20d3afe9-487f-4c97-b972-55532e64b93a')\"\n",
              "            title=\"Convert this dataframe to an interactive table.\"\n",
              "            style=\"display:none;\">\n",
              "\n",
              "  <svg xmlns=\"http://www.w3.org/2000/svg\" height=\"24px\" viewBox=\"0 -960 960 960\">\n",
              "    <path d=\"M120-120v-720h720v720H120Zm60-500h600v-160H180v160Zm220 220h160v-160H400v160Zm0 220h160v-160H400v160ZM180-400h160v-160H180v160Zm440 0h160v-160H620v160ZM180-180h160v-160H180v160Zm440 0h160v-160H620v160Z\"/>\n",
              "  </svg>\n",
              "    </button>\n",
              "\n",
              "  <style>\n",
              "    .colab-df-container {\n",
              "      display:flex;\n",
              "      gap: 12px;\n",
              "    }\n",
              "\n",
              "    .colab-df-convert {\n",
              "      background-color: #E8F0FE;\n",
              "      border: none;\n",
              "      border-radius: 50%;\n",
              "      cursor: pointer;\n",
              "      display: none;\n",
              "      fill: #1967D2;\n",
              "      height: 32px;\n",
              "      padding: 0 0 0 0;\n",
              "      width: 32px;\n",
              "    }\n",
              "\n",
              "    .colab-df-convert:hover {\n",
              "      background-color: #E2EBFA;\n",
              "      box-shadow: 0px 1px 2px rgba(60, 64, 67, 0.3), 0px 1px 3px 1px rgba(60, 64, 67, 0.15);\n",
              "      fill: #174EA6;\n",
              "    }\n",
              "\n",
              "    .colab-df-buttons div {\n",
              "      margin-bottom: 4px;\n",
              "    }\n",
              "\n",
              "    [theme=dark] .colab-df-convert {\n",
              "      background-color: #3B4455;\n",
              "      fill: #D2E3FC;\n",
              "    }\n",
              "\n",
              "    [theme=dark] .colab-df-convert:hover {\n",
              "      background-color: #434B5C;\n",
              "      box-shadow: 0px 1px 3px 1px rgba(0, 0, 0, 0.15);\n",
              "      filter: drop-shadow(0px 1px 2px rgba(0, 0, 0, 0.3));\n",
              "      fill: #FFFFFF;\n",
              "    }\n",
              "  </style>\n",
              "\n",
              "    <script>\n",
              "      const buttonEl =\n",
              "        document.querySelector('#df-20d3afe9-487f-4c97-b972-55532e64b93a button.colab-df-convert');\n",
              "      buttonEl.style.display =\n",
              "        google.colab.kernel.accessAllowed ? 'block' : 'none';\n",
              "\n",
              "      async function convertToInteractive(key) {\n",
              "        const element = document.querySelector('#df-20d3afe9-487f-4c97-b972-55532e64b93a');\n",
              "        const dataTable =\n",
              "          await google.colab.kernel.invokeFunction('convertToInteractive',\n",
              "                                                    [key], {});\n",
              "        if (!dataTable) return;\n",
              "\n",
              "        const docLinkHtml = 'Like what you see? Visit the ' +\n",
              "          '<a target=\"_blank\" href=https://colab.research.google.com/notebooks/data_table.ipynb>data table notebook</a>'\n",
              "          + ' to learn more about interactive tables.';\n",
              "        element.innerHTML = '';\n",
              "        dataTable['output_type'] = 'display_data';\n",
              "        await google.colab.output.renderOutput(dataTable, element);\n",
              "        const docLink = document.createElement('div');\n",
              "        docLink.innerHTML = docLinkHtml;\n",
              "        element.appendChild(docLink);\n",
              "      }\n",
              "    </script>\n",
              "  </div>\n",
              "\n",
              "\n",
              "    </div>\n",
              "  </div>\n"
            ],
            "application/vnd.google.colaboratory.intrinsic+json": {
              "type": "dataframe",
              "repr_error": "0"
            }
          },
          "metadata": {},
          "execution_count": 6
        }
      ]
    },
    {
      "cell_type": "code",
      "source": [
        "topic_dic = {}\n",
        "\n",
        "c = 0\n",
        "for un in telugu_news_df[\"topic\"].unique():\n",
        "    if un not in topic_dic:\n",
        "        topic_dic[un] = c\n",
        "        c += 1\n",
        "\n",
        "topic_dic"
      ],
      "metadata": {
        "colab": {
          "base_uri": "https://localhost:8080/"
        },
        "id": "AaDfwssJX8Mm",
        "outputId": "6ca227de-b155-458a-c7b9-748236b28903"
      },
      "execution_count": null,
      "outputs": [
        {
          "output_type": "execute_result",
          "data": {
            "text/plain": [
              "{'business': 0, 'sports': 1, 'nation': 2, 'entertainment': 3, 'editorial': 4}"
            ]
          },
          "metadata": {},
          "execution_count": 7
        }
      ]
    },
    {
      "cell_type": "code",
      "source": [
        "inv_topic_dict = {v: k for k, v in topic_dic.items()}\n",
        "def func_topic(s):\n",
        "    return topic_dic[s]\n",
        "\n",
        "telugu_news_df[\"topic\"] = telugu_news_df[\"topic\"].apply(func_topic)\n",
        "date_df = telugu_news_df[\"date\"]\n",
        "telugu_news_df[\"body_processed\"] = telugu_news_df[\"body\"].str.replace('\\u200c', '')\n",
        "telugu_news_df[\"body_processed\"] = telugu_news_df[\"body_processed\"].str.replace('\\n', '')\n",
        "telugu_news_df[\"body_processed\"] = telugu_news_df[\"body_processed\"].str.replace('\\t', '')\n",
        "telugu_news_df[\"body_processed\"] = telugu_news_df[\"body_processed\"].str.replace('\\xa0', '')"
      ],
      "metadata": {
        "id": "2ZG74VD4X-Mz"
      },
      "execution_count": null,
      "outputs": []
    },
    {
      "cell_type": "code",
      "source": [
        "def get_count(df):\n",
        "\n",
        "    unvals = list(df.unique())\n",
        "    op = [0]*len(unvals)\n",
        "\n",
        "    i = 0\n",
        "    for un in unvals:\n",
        "        op[i] = df[df == un].shape[0]\n",
        "        i += 1\n",
        "\n",
        "    return [list(unvals),op]\n",
        "\n",
        "cont = get_count(telugu_news_df[\"topic\"])\n",
        "clables = cont[0]\n",
        "\n",
        "labels = []\n",
        "for c in clables:\n",
        "    labels.append(inv_topic_dict[c])\n",
        "\n",
        "plt.figure(figsize=(10,8))\n",
        "plt.title(\"Distribution of the telugu news toics\", fontsize = 14.5)\n",
        "plt.style.use('seaborn-colorblind')\n",
        "plt.pie(np.array(cont[1]), labels=labels, autopct='%1.2f%%', shadow=True)\n",
        "plt.show()"
      ],
      "metadata": {
        "colab": {
          "base_uri": "https://localhost:8080/",
          "height": 731
        },
        "id": "eSY0nhqpYdOw",
        "outputId": "4539bf4e-4ad0-4ab3-9ec8-3095856b7e43"
      },
      "execution_count": null,
      "outputs": [
        {
          "output_type": "stream",
          "name": "stderr",
          "text": [
            "<ipython-input-9-35baf0ff7373>:22: MatplotlibDeprecationWarning: The seaborn styles shipped by Matplotlib are deprecated since 3.6, as they no longer correspond to the styles shipped by seaborn. However, they will remain available as 'seaborn-v0_8-<style>'. Alternatively, directly use the seaborn API instead.\n",
            "  plt.style.use('seaborn-colorblind')\n"
          ]
        },
        {
          "output_type": "display_data",
          "data": {
            "text/plain": [
              "<Figure size 1000x800 with 1 Axes>"
            ],
            "image/png": "[encoded data removed]"
          },
          "metadata": {}
        }
      ]
    },
    {
      "cell_type": "code",
      "source": [
        "PUNCT = string.punctuation\n",
        "\n",
        "def remove_punctuation(text):\n",
        "    return text.translate(str.maketrans('', '', PUNCT))\n",
        "telugu_news_df[\"body_processed\"] = telugu_news_df[\"body_processed\"].apply(lambda text: remove_punctuation(text))\n"
      ],
      "metadata": {
        "id": "rJo74n9IYooz"
      },
      "execution_count": null,
      "outputs": []
    },
    {
      "cell_type": "code",
      "source": [
        "test_path = \"/content/train_telugu_news.csv\"\n",
        "\n",
        "test_news_df = pd.read_csv(test_path)\n",
        "\n",
        "test_news_df.head()"
      ],
      "metadata": {
        "colab": {
          "base_uri": "https://localhost:8080/",
          "height": 206
        },
        "id": "yqdBv5Y9YwMI",
        "outputId": "c4f4bb5b-8ada-495e-d5dc-5e471b4e87c0"
      },
      "execution_count": null,
      "outputs": [
        {
          "output_type": "execute_result",
          "data": {
            "text/plain": [
              "     SNo                 date  \\\n",
              "0    414  11-05-2017 00:39:13   \n",
              "1   2668  12-06-2017 00:40:32   \n",
              "2  19923  19-01-2017 19:51:31   \n",
              "3  15762  23-11-2017 17:29:04   \n",
              "4   8624  03-04-2017 15:48:23   \n",
              "\n",
              "                                            heading  \\\n",
              "0                            ఐడిబిఐపై ఆర్‌బిఐ నజర్‌   \n",
              "1             బ్యాంకింగ్‌ చీఫ్‌లతో నేడు జైట్లీ భేటీ   \n",
              "2                         కీలక వికెట్ తీసిన జడేజా..   \n",
              "3           మరో రెచ్చగొట్టే చర్యకు దిగిన పాకిస్థాన్   \n",
              "4  గోవాలో కొడుకుతో కలిసి అల్లు అర్జున్ స్విమ్మింగ్!   \n",
              "\n",
              "                                                body          topic  \n",
              "0  భారీ ఎత్తున మొండిబకాయిలు పెరిగిపోవడంతో ఐడిబిఐ ...       business  \n",
              "1  న్యూఢిల్లీ : ఆర్థిక మంత్రి అరుణ్‌ జైట్లీ సోమవా...       business  \n",
              "2  కటక్: ఇంగ్లండ్‌తో జరుగుతున్న సెకండ్ వన్డే మ్యా...         sports  \n",
              "3  \\nఇస్లామాబాద్ : పాకిస్థాన్ అంతర్జాతీయ ఉగ్రవాది...         nation  \n",
              "4  స్టార్‌ హీరోగా వరుస సినిమాలతో బిజీగా ఉన్నప్పటి...  entertainment  "
            ],
            "text/html": [
              "\n",
              "  <div id=\"df-41861130-e8e1-4052-b1ad-4d3ada73089a\" class=\"colab-df-container\">\n",
              "    <div>\n",
              "<style scoped>\n",
              "    .dataframe tbody tr th:only-of-type {\n",
              "        vertical-align: middle;\n",
              "    }\n",
              "\n",
              "    .dataframe tbody tr th {\n",
              "        vertical-align: top;\n",
              "    }\n",
              "\n",
              "    .dataframe thead th {\n",
              "        text-align: right;\n",
              "    }\n",
              "</style>\n",
              "<table border=\"1\" class=\"dataframe\">\n",
              "  <thead>\n",
              "    <tr style=\"text-align: right;\">\n",
              "      <th></th>\n",
              "      <th>SNo</th>\n",
              "      <th>date</th>\n",
              "      <th>heading</th>\n",
              "      <th>body</th>\n",
              "      <th>topic</th>\n",
              "    </tr>\n",
              "  </thead>\n",
              "  <tbody>\n",
              "    <tr>\n",
              "      <th>0</th>\n",
              "      <td>414</td>\n",
              "      <td>11-05-2017 00:39:13</td>\n",
              "      <td>ఐడిబిఐపై ఆర్‌బిఐ నజర్‌</td>\n",
              "      <td>భారీ ఎత్తున మొండిబకాయిలు పెరిగిపోవడంతో ఐడిబిఐ ...</td>\n",
              "      <td>business</td>\n",
              "    </tr>\n",
              "    <tr>\n",
              "      <th>1</th>\n",
              "      <td>2668</td>\n",
              "      <td>12-06-2017 00:40:32</td>\n",
              "      <td>బ్యాంకింగ్‌ చీఫ్‌లతో నేడు జైట్లీ భేటీ</td>\n",
              "      <td>న్యూఢిల్లీ : ఆర్థిక మంత్రి అరుణ్‌ జైట్లీ సోమవా...</td>\n",
              "      <td>business</td>\n",
              "    </tr>\n",
              "    <tr>\n",
              "      <th>2</th>\n",
              "      <td>19923</td>\n",
              "      <td>19-01-2017 19:51:31</td>\n",
              "      <td>కీలక వికెట్ తీసిన జడేజా..</td>\n",
              "      <td>కటక్: ఇంగ్లండ్‌తో జరుగుతున్న సెకండ్ వన్డే మ్యా...</td>\n",
              "      <td>sports</td>\n",
              "    </tr>\n",
              "    <tr>\n",
              "      <th>3</th>\n",
              "      <td>15762</td>\n",
              "      <td>23-11-2017 17:29:04</td>\n",
              "      <td>మరో రెచ్చగొట్టే చర్యకు దిగిన పాకిస్థాన్</td>\n",
              "      <td>\\nఇస్లామాబాద్ : పాకిస్థాన్ అంతర్జాతీయ ఉగ్రవాది...</td>\n",
              "      <td>nation</td>\n",
              "    </tr>\n",
              "    <tr>\n",
              "      <th>4</th>\n",
              "      <td>8624</td>\n",
              "      <td>03-04-2017 15:48:23</td>\n",
              "      <td>గోవాలో కొడుకుతో కలిసి అల్లు అర్జున్ స్విమ్మింగ్!</td>\n",
              "      <td>స్టార్‌ హీరోగా వరుస సినిమాలతో బిజీగా ఉన్నప్పటి...</td>\n",
              "      <td>entertainment</td>\n",
              "    </tr>\n",
              "  </tbody>\n",
              "</table>\n",
              "</div>\n",
              "    <div class=\"colab-df-buttons\">\n",
              "\n",
              "  <div class=\"colab-df-container\">\n",
              "    <button class=\"colab-df-convert\" onclick=\"convertToInteractive('df-41861130-e8e1-4052-b1ad-4d3ada73089a')\"\n",
              "            title=\"Convert this dataframe to an interactive table.\"\n",
              "            style=\"display:none;\">\n",
              "\n",
              "  <svg xmlns=\"http://www.w3.org/2000/svg\" height=\"24px\" viewBox=\"0 -960 960 960\">\n",
              "    <path d=\"M120-120v-720h720v720H120Zm60-500h600v-160H180v160Zm220 220h160v-160H400v160Zm0 220h160v-160H400v160ZM180-400h160v-160H180v160Zm440 0h160v-160H620v160ZM180-180h160v-160H180v160Zm440 0h160v-160H620v160Z\"/>\n",
              "  </svg>\n",
              "    </button>\n",
              "\n",
              "  <style>\n",
              "    .colab-df-container {\n",
              "      display:flex;\n",
              "      gap: 12px;\n",
              "    }\n",
              "\n",
              "    .colab-df-convert {\n",
              "      background-color: #E8F0FE;\n",
              "      border: none;\n",
              "      border-radius: 50%;\n",
              "      cursor: pointer;\n",
              "      display: none;\n",
              "      fill: #1967D2;\n",
              "      height: 32px;\n",
              "      padding: 0 0 0 0;\n",
              "      width: 32px;\n",
              "    }\n",
              "\n",
              "    .colab-df-convert:hover {\n",
              "      background-color: #E2EBFA;\n",
              "      box-shadow: 0px 1px 2px rgba(60, 64, 67, 0.3), 0px 1px 3px 1px rgba(60, 64, 67, 0.15);\n",
              "      fill: #174EA6;\n",
              "    }\n",
              "\n",
              "    .colab-df-buttons div {\n",
              "      margin-bottom: 4px;\n",
              "    }\n",
              "\n",
              "    [theme=dark] .colab-df-convert {\n",
              "      background-color: #3B4455;\n",
              "      fill: #D2E3FC;\n",
              "    }\n",
              "\n",
              "    [theme=dark] .colab-df-convert:hover {\n",
              "      background-color: #434B5C;\n",
              "      box-shadow: 0px 1px 3px 1px rgba(0, 0, 0, 0.15);\n",
              "      filter: drop-shadow(0px 1px 2px rgba(0, 0, 0, 0.3));\n",
              "      fill: #FFFFFF;\n",
              "    }\n",
              "  </style>\n",
              "\n",
              "    <script>\n",
              "      const buttonEl =\n",
              "        document.querySelector('#df-41861130-e8e1-4052-b1ad-4d3ada73089a button.colab-df-convert');\n",
              "      buttonEl.style.display =\n",
              "        google.colab.kernel.accessAllowed ? 'block' : 'none';\n",
              "\n",
              "      async function convertToInteractive(key) {\n",
              "        const element = document.querySelector('#df-41861130-e8e1-4052-b1ad-4d3ada73089a');\n",
              "        const dataTable =\n",
              "          await google.colab.kernel.invokeFunction('convertToInteractive',\n",
              "                                                    [key], {});\n",
              "        if (!dataTable) return;\n",
              "\n",
              "        const docLinkHtml = 'Like what you see? Visit the ' +\n",
              "          '<a target=\"_blank\" href=https://colab.research.google.com/notebooks/data_table.ipynb>data table notebook</a>'\n",
              "          + ' to learn more about interactive tables.';\n",
              "        element.innerHTML = '';\n",
              "        dataTable['output_type'] = 'display_data';\n",
              "        await google.colab.output.renderOutput(dataTable, element);\n",
              "        const docLink = document.createElement('div');\n",
              "        docLink.innerHTML = docLinkHtml;\n",
              "        element.appendChild(docLink);\n",
              "      }\n",
              "    </script>\n",
              "  </div>\n",
              "\n",
              "\n",
              "<div id=\"df-b63d8717-cab9-4058-adab-377346982ef8\">\n",
              "  <button class=\"colab-df-quickchart\" onclick=\"quickchart('df-b63d8717-cab9-4058-adab-377346982ef8')\"\n",
              "            title=\"Suggest charts\"\n",
              "            style=\"display:none;\">\n",
              "\n",
              "<svg xmlns=\"http://www.w3.org/2000/svg\" height=\"24px\"viewBox=\"0 0 24 24\"\n",
              "     width=\"24px\">\n",
              "    <g>\n",
              "        <path d=\"M19 3H5c-1.1 0-2 .9-2 2v14c0 1.1.9 2 2 2h14c1.1 0 2-.9 2-2V5c0-1.1-.9-2-2-2zM9 17H7v-7h2v7zm4 0h-2V7h2v10zm4 0h-2v-4h2v4z\"/>\n",
              "    </g>\n",
              "</svg>\n",
              "  </button>\n",
              "\n",
              "<style>\n",
              "  .colab-df-quickchart {\n",
              "      --bg-color: #E8F0FE;\n",
              "      --fill-color: #1967D2;\n",
              "      --hover-bg-color: #E2EBFA;\n",
              "      --hover-fill-color: #174EA6;\n",
              "      --disabled-fill-color: #AAA;\n",
              "      --disabled-bg-color: #DDD;\n",
              "  }\n",
              "\n",
              "  [theme=dark] .colab-df-quickchart {\n",
              "      --bg-color: #3B4455;\n",
              "      --fill-color: #D2E3FC;\n",
              "      --hover-bg-color: #434B5C;\n",
              "      --hover-fill-color: #FFFFFF;\n",
              "      --disabled-bg-color: #3B4455;\n",
              "      --disabled-fill-color: #666;\n",
              "  }\n",
              "\n",
              "  .colab-df-quickchart {\n",
              "    background-color: var(--bg-color);\n",
              "    border: none;\n",
              "    border-radius: 50%;\n",
              "    cursor: pointer;\n",
              "    display: none;\n",
              "    fill: var(--fill-color);\n",
              "    height: 32px;\n",
              "    padding: 0;\n",
              "    width: 32px;\n",
              "  }\n",
              "\n",
              "  .colab-df-quickchart:hover {\n",
              "    background-color: var(--hover-bg-color);\n",
              "    box-shadow: 0 1px 2px rgba(60, 64, 67, 0.3), 0 1px 3px 1px rgba(60, 64, 67, 0.15);\n",
              "    fill: var(--button-hover-fill-color);\n",
              "  }\n",
              "\n",
              "  .colab-df-quickchart-complete:disabled,\n",
              "  .colab-df-quickchart-complete:disabled:hover {\n",
              "    background-color: var(--disabled-bg-color);\n",
              "    fill: var(--disabled-fill-color);\n",
              "    box-shadow: none;\n",
              "  }\n",
              "\n",
              "  .colab-df-spinner {\n",
              "    border: 2px solid var(--fill-color);\n",
              "    border-color: transparent;\n",
              "    border-bottom-color: var(--fill-color);\n",
              "    animation:\n",
              "      spin 1s steps(1) infinite;\n",
              "  }\n",
              "\n",
              "  @keyframes spin {\n",
              "    0% {\n",
              "      border-color: transparent;\n",
              "      border-bottom-color: var(--fill-color);\n",
              "      border-left-color: var(--fill-color);\n",
              "    }\n",
              "    20% {\n",
              "      border-color: transparent;\n",
              "      border-left-color: var(--fill-color);\n",
              "      border-top-color: var(--fill-color);\n",
              "    }\n",
              "    30% {\n",
              "      border-color: transparent;\n",
              "      border-left-color: var(--fill-color);\n",
              "      border-top-color: var(--fill-color);\n",
              "      border-right-color: var(--fill-color);\n",
              "    }\n",
              "    40% {\n",
              "      border-color: transparent;\n",
              "      border-right-color: var(--fill-color);\n",
              "      border-top-color: var(--fill-color);\n",
              "    }\n",
              "    60% {\n",
              "      border-color: transparent;\n",
              "      border-right-color: var(--fill-color);\n",
              "    }\n",
              "    80% {\n",
              "      border-color: transparent;\n",
              "      border-right-color: var(--fill-color);\n",
              "      border-bottom-color: var(--fill-color);\n",
              "    }\n",
              "    90% {\n",
              "      border-color: transparent;\n",
              "      border-bottom-color: var(--fill-color);\n",
              "    }\n",
              "  }\n",
              "</style>\n",
              "\n",
              "  <script>\n",
              "    async function quickchart(key) {\n",
              "      const quickchartButtonEl =\n",
              "        document.querySelector('#' + key + ' button');\n",
              "      quickchartButtonEl.disabled = true;  // To prevent multiple clicks.\n",
              "      quickchartButtonEl.classList.add('colab-df-spinner');\n",
              "      try {\n",
              "        const charts = await google.colab.kernel.invokeFunction(\n",
              "            'suggestCharts', [key], {});\n",
              "      } catch (error) {\n",
              "        console.error('Error during call to suggestCharts:', error);\n",
              "      }\n",
              "      quickchartButtonEl.classList.remove('colab-df-spinner');\n",
              "      quickchartButtonEl.classList.add('colab-df-quickchart-complete');\n",
              "    }\n",
              "    (() => {\n",
              "      let quickchartButtonEl =\n",
              "        document.querySelector('#df-b63d8717-cab9-4058-adab-377346982ef8 button');\n",
              "      quickchartButtonEl.style.display =\n",
              "        google.colab.kernel.accessAllowed ? 'block' : 'none';\n",
              "    })();\n",
              "  </script>\n",
              "</div>\n",
              "\n",
              "    </div>\n",
              "  </div>\n"
            ],
            "application/vnd.google.colaboratory.intrinsic+json": {
              "type": "dataframe",
              "variable_name": "test_news_df",
              "summary": "{\n  \"name\": \"test_news_df\",\n  \"rows\": 17312,\n  \"fields\": [\n    {\n      \"column\": \"SNo\",\n      \"properties\": {\n        \"dtype\": \"number\",\n        \"std\": 6252,\n        \"min\": 0,\n        \"max\": 21639,\n        \"num_unique_values\": 17312,\n        \"samples\": [\n          10835,\n          16893,\n          16651\n        ],\n        \"semantic_type\": \"\",\n        \"description\": \"\"\n      }\n    },\n    {\n      \"column\": \"date\",\n      \"properties\": {\n        \"dtype\": \"string\",\n        \"num_unique_values\": 17312,\n        \"samples\": [\n          \"07-07-2017 11:14:11\",\n          \"06-02-2017 01:00:14\",\n          \"01-08-2017 16:53:10\"\n        ],\n        \"semantic_type\": \"\",\n        \"description\": \"\"\n      }\n    },\n    {\n      \"column\": \"heading\",\n      \"properties\": {\n        \"dtype\": \"string\",\n        \"num_unique_values\": 17220,\n        \"samples\": [\n          \"\\u0c06 \\u0c35\\u0c4d\\u0c2f\\u0c3e\\u0c38\\u0c02 \\u0c28\\u0c3e \\u0c05\\u0c02\\u0c24\\u0c1f \\u0c28\\u0c47\\u0c28\\u0c47 \\u0c30\\u0c3e\\u0c36\\u0c3e: \\u0c1c\\u0c2f\\u0c02\\u0c24\\u0c4d\\u200c\",\n          \"\\u2018\\u0c2a\\u0c17\\u0c4d\\u0c17\\u0c3e\\u0c32\\u0c41 \\u0c05\\u0c2a\\u0c4d\\u0c2a\\u0c17\\u0c3f\\u0c38\\u0c4d\\u0c24\\u0c3e\\u0c35\\u0c3e?... \\u0c28\\u0c28\\u0c4d\\u0c28\\u0c47 \\u0c2a\\u0c3e\\u0c30\\u0c4d\\u0c1f\\u0c40 \\u0c2a\\u0c46\\u0c1f\\u0c4d\\u0c1f\\u0c2e\\u0c02\\u0c1f\\u0c3e\\u0c35\\u0c3e?\\u2019\",\n          \"\\u0c2e\\u0c4b\\u0c26\\u0c40 \\u2018\\u0c15\\u0c4a\\u0c24\\u0c4d\\u0c24 \\u0c2d\\u0c3e\\u0c30\\u0c24\\u0c4d\\u2019 \\u0c07\\u0c26\\u0c47: \\u0c12\\u0c35\\u0c48\\u0c38\\u0c40\"\n        ],\n        \"semantic_type\": \"\",\n        \"description\": \"\"\n      }\n    },\n    {\n      \"column\": \"body\",\n      \"properties\": {\n        \"dtype\": \"string\",\n        \"num_unique_values\": 17306,\n        \"samples\": [\n          \"\\u0c36\\u0c4d\\u0c30\\u0c40\\u0c28\\u0c17\\u0c30\\u0c4d\\u200c, \\u0c28\\u0c35\\u0c02\\u0c2c\\u0c30\\u0c41 15: \\u0c28\\u0c47\\u0c37\\u0c28\\u0c32\\u0c4d\\u200c \\u0c15\\u0c3e\\u0c28\\u0c4d\\u0c2b\\u0c30\\u0c46\\u0c28\\u0c4d\\u0c38\\u0c4d\\u200c \\u0c05\\u0c27\\u0c3f\\u0c28\\u0c47\\u0c24 \\u0c2b\\u0c30\\u0c42\\u0c16\\u0c4d\\u200c \\u0c05\\u0c2c\\u0c4d\\u0c26\\u0c41\\u0c32\\u0c4d\\u0c32\\u0c3e \\u0c2e\\u0c33\\u0c4d\\u0c32\\u0c40 \\u0c2a\\u0c3e\\u0c15\\u0c3f\\u0c38\\u0c4d\\u0c25\\u0c3e\\u0c28\\u0c4d\\u200c \\u0c2a\\u0c3e\\u0c1f \\u0c2a\\u0c3e\\u0c21\\u0c3e\\u0c30\\u0c41. \\u0c2a\\u0c3e\\u0c15\\u0c4d\\u200c \\u0c06\\u0c15\\u0c4d\\u0c30\\u0c2e\\u0c3f\\u0c24 \\u0c15\\u0c3e\\u0c36\\u0c4d\\u0c2e\\u0c40\\u0c30\\u0c4d\\u200c (\\u0c2a\\u0c40\\u0c35\\u0c4b\\u0c15\\u0c47) \\u0c2d\\u0c3e\\u0c30\\u0c24\\u0c4d\\u200c\\u0c32\\u0c4b \\u0c05\\u0c02\\u0c24\\u0c30\\u0c4d\\u0c2d\\u0c3e\\u0c17\\u0c02 \\u0c15\\u0c3e\\u0c26\\u0c02\\u0c1f\\u0c42 \\u0c35\\u0c4d\\u0c2f\\u0c3e\\u0c16\\u0c4d\\u0c2f\\u0c32\\u0c41 \\u0c1a\\u0c47\\u0c38\\u0c3f\\u0c28 \\u0c35\\u0c3e\\u0c30\\u0c02\\u0c32\\u0c4b\\u0c28\\u0c47 \\u0c2e\\u0c30\\u0c4b \\u0c35\\u0c3f\\u0c35\\u0c3e\\u0c26\\u0c3e\\u0c28\\u0c3f\\u0c15\\u0c3f \\u0c24\\u0c46\\u0c30\\u0c24\\u0c40\\u0c36\\u0c3e\\u0c30\\u0c41. \\u0c2a\\u0c40\\u0c35\\u0c4b\\u0c15\\u0c47 \\u0c35\\u0c3f\\u0c37\\u0c2f\\u0c02\\u0c32\\u0c4b \\u0c1a\\u0c42\\u0c38\\u0c4d\\u0c24\\u0c42 \\u0c0a\\u0c30\\u0c41\\u0c15\\u0c4b\\u0c35\\u0c21\\u0c3e\\u0c28\\u0c3f\\u0c15\\u0c3f \\u0c2a\\u0c3e\\u0c15\\u0c3f\\u0c38\\u0c4d\\u0c25\\u0c3e\\u0c28\\u0c4d\\u200c \\u0c17\\u0c3e\\u0c1c\\u0c41\\u0c32\\u0c41 \\u0c24\\u0c4a\\u0c21\\u0c41\\u0c15\\u0c4d\\u0c15\\u0c4b\\u0c32\\u0c47\\u0c26\\u0c02\\u0c1f\\u0c42 \\u0c2c\\u0c3e\\u0c30\\u0c3e\\u0c2e\\u0c41\\u0c32\\u0c4d\\u0c32\\u0c3e\\u0c32\\u0c4b \\u0c35\\u0c4d\\u0c2f\\u0c3e\\u0c16\\u0c4d\\u0c2f\\u0c3e\\u0c28\\u0c3f\\u0c02\\u0c1a\\u0c3e\\u0c30\\u0c41. \\u2018\\u0c2a\\u0c40\\u0c35\\u0c4b\\u0c15\\u0c47 \\u0c2d\\u0c3e\\u0c30\\u0c24\\u0c4d\\u200c\\u0c32\\u0c4b \\u0c05\\u0c02\\u0c24\\u0c30\\u0c4d\\u0c2d\\u0c3e\\u0c17\\u0c2e\\u0c02\\u0c1f\\u0c47 \\u0c1a\\u0c42\\u0c38\\u0c4d\\u0c24\\u0c42 \\u0c0a\\u0c30\\u0c41\\u0c15\\u0c4b\\u0c35\\u0c21\\u0c3e\\u0c28\\u0c3f\\u0c15\\u0c3f \\u0c2a\\u0c3e\\u0c15\\u0c4d\\u200c \\u0c17\\u0c3e\\u0c1c\\u0c41\\u0c32\\u0c41 \\u0c24\\u0c4a\\u0c21\\u0c41\\u0c15\\u0c4d\\u0c15\\u0c41\\u0c28\\u0c3f \\u0c15\\u0c42\\u0c30\\u0c4d\\u0c1a\\u0c4b\\u0c32\\u0c47\\u0c26\\u0c41. \\u0c35\\u0c3e\\u0c33\\u0c4d\\u0c32\\u0c47\\u0c02 \\u0c2c\\u0c32\\u0c39\\u0c40\\u0c28\\u0c41\\u0c32\\u0c41 \\u0c15\\u0c3e\\u0c26\\u0c41. \\u0c2a\\u0c3e\\u0c15\\u0c4d\\u200c \\u0c26\\u0c17\\u0c4d\\u0c17\\u0c30\\u0c3e \\u0c05\\u0c23\\u0c41\\u0c2c\\u0c3e\\u0c02\\u0c2c\\u0c41\\u0c32\\u0c41\\u0c28\\u0c4d\\u0c28\\u0c3e\\u0c2f\\u0c3f.\\u00a0\\u0c2f\\u0c41\\u0c26\\u0c4d\\u0c27\\u0c02 \\u0c17\\u0c41\\u0c30\\u0c3f\\u0c02\\u0c1a\\u0c3f \\u0c06\\u0c32\\u0c4b\\u0c1a\\u0c3f\\u0c02\\u0c1a\\u0c47  \\u0c2e\\u0c41\\u0c02\\u0c26\\u0c41 \\u0c07\\u0c15\\u0c4d\\u0c15\\u0c21 \\u0c2e\\u0c28\\u0c41\\u0c37\\u0c41\\u0c32\\u0c41\\u0c17\\u0c3e \\u0c2c\\u0c24\\u0c17\\u0c4d\\u0c17\\u0c32\\u0c2e\\u0c3e \\u0c05\\u0c28\\u0c3f \\u0c06\\u0c32\\u0c4b\\u0c1a\\u0c3f\\u0c02\\u0c1a\\u0c3e\\u0c32\\u0c3f\\u2019 \\u0c05\\u0c02\\u0c1f\\u0c42 \\u0c2b\\u0c30\\u0c42\\u0c16\\u0c4d\\u200c \\u0c05\\u0c2c\\u0c4d\\u0c26\\u0c41\\u0c32\\u0c4d\\u0c32\\u0c3e \\u0c05\\u0c28\\u0c4d\\u0c28 \\u0c2e\\u0c3e\\u0c1f\\u0c32\\u0c41 \\u0c2e\\u0c02\\u0c1f\\u0c32\\u0c41 \\u0c30\\u0c47\\u0c2a\\u0c41\\u0c24\\u0c41\\u0c28\\u0c4d\\u0c28\\u0c3e\\u0c2f\\u0c3f. \\u2018\\u0c2a\\u0c40\\u0c35\\u0c4b\\u0c15\\u0c47 \\u0c2d\\u0c3e\\u0c30\\u0c24\\u0c4d\\u200c\\u0c32\\u0c4b \\u0c05\\u0c02\\u0c24\\u0c30\\u0c4d\\u0c2d\\u0c3e\\u0c17\\u0c2e\\u0c28\\u0c3f \\u0c07\\u0c02\\u0c15\\u0c3e \\u0c0e\\u0c02\\u0c24\\u0c15\\u0c3e\\u0c32\\u0c02 \\u0c1a\\u0c46\\u0c2c\\u0c41\\u0c24\\u0c42 \\u0c35\\u0c38\\u0c4d\\u0c24\\u0c3e\\u0c30\\u0c41? 70 \\u0c0f\\u0c33\\u0c4d\\u0c32\\u0c41 \\u0c17\\u0c21\\u0c3f\\u0c1a\\u0c3f\\u0c2a\\u0c4b\\u0c2f\\u0c3e\\u0c2f\\u0c3f. \\u0c15\\u0c3e\\u0c28\\u0c40 \\u0c2a\\u0c40\\u0c35\\u0c4b\\u0c15\\u0c47\\u0c28\\u0c3f \\u0c2d\\u0c3e\\u0c30\\u0c24\\u0c4d\\u200c \\u0c38\\u0c4a\\u0c02\\u0c24\\u0c02 \\u0c1a\\u0c47\\u0c38\\u0c41\\u0c15\\u0c4b\\u0c32\\u0c47\\u0c15\\u0c2a\\u0c4b\\u0c2f\\u0c3f\\u0c02\\u0c26\\u0c3f. \\u0c2e\\u0c41\\u0c2e\\u0c4d\\u0c2e\\u0c3e\\u0c1f\\u0c3f\\u0c15\\u0c40 \\u0c2a\\u0c40\\u0c35\\u0c4b\\u0c15\\u0c47 \\u0c2a\\u0c3e\\u0c15\\u0c3f\\u0c38\\u0c4d\\u0c25\\u0c3e\\u0c28\\u0c4d\\u200c\\u0c32\\u0c4b \\u0c05\\u0c02\\u0c24\\u0c30\\u0c4d\\u0c2d\\u0c3e\\u0c17\\u0c2e\\u0c47\\u2019 \\u0c05\\u0c28\\u0c4d\\u0c28 \\u0c2b\\u0c30\\u0c42\\u0c16\\u0c4d\\u200c \\u0c2e\\u0c3e\\u0c1f\\u0c32\\u0c41 \\u0c1a\\u0c30\\u0c4d\\u0c1a\\u0c28\\u0c40\\u0c2f\\u0c3e\\u0c02\\u0c36\\u0c2e\\u0c2f\\u0c4d\\u0c2f\\u0c3e\\u0c2f\\u0c3f.\",\n          \"\\n\\u0c38\\u0c41\\u0c2a\\u0c4d\\u0c30\\u0c40\\u0c02\\u0c28\\u0c41 \\u0c15\\u0c4b\\u0c30\\u0c3f\\u0c28 \\u0c15\\u0c47\\u0c02\\u0c26\\u0c4d\\u0c30\\u0c02 \\u0c28\\u0c4d\\u0c2f\\u0c42\\u0c22\\u0c3f\\u0c32\\u0c4d\\u0c32\\u0c40, \\u0c1c\\u0c28\\u0c35\\u0c30\\u0c3f 30: \\u0c09\\u0c28\\u0c4d\\u0c28\\u0c24 \\u0c28\\u0c4d\\u0c2f\\u0c3e\\u0c2f\\u0c38\\u0c4d\\u0c25\\u0c3e\\u0c28\\u0c3e\\u0c32\\u0c4d\\u0c32\\u0c4b \\u0c28\\u0c4d\\u0c2f\\u0c3e\\u0c2f\\u0c2e\\u0c42\\u0c30\\u0c4d\\u0c24\\u0c41\\u0c32 \\u0c28\\u0c3f\\u0c2f\\u0c3e\\u0c2e\\u0c15\\u0c02 \\u0c35\\u0c02\\u0c1f\\u0c3f \\u0c38\\u0c02\\u0c38\\u0c4d\\u0c15\\u0c30\\u0c23\\u0c32\\u0c2a\\u0c48 \\u0c26\\u0c3e\\u0c16\\u0c32\\u0c48\\u0c28 \\u0c2a\\u0c3f\\u0c1f\\u0c3f\\u0c37\\u0c28\\u0c4d\\u0c32\\u0c28\\u0c41 \\u0c15\\u0c4a\\u0c1f\\u0c4d\\u0c1f\\u0c3f\\u0c35\\u0c47\\u0c2f\\u0c3e\\u0c32\\u0c28\\u0c3f \\u0c38\\u0c41\\u0c2a\\u0c4d\\u0c30\\u0c40\\u0c02 \\u0c15\\u0c4b\\u0c30\\u0c4d\\u0c1f\\u0c41\\u0c28\\u0c41 \\u0c15\\u0c47\\u0c02 \\u0c26\\u0c4d\\u0c30\\u0c02 \\u0c15\\u0c4b\\u0c30\\u0c3f\\u0c02\\u0c26\\u0c3f. \\u0c2a\\u0c3e\\u0c32\\u0c28\\u0c2a\\u0c30\\u0c02\\u0c17\\u0c3e \\u0c06 \\u0c05\\u0c02\\u0c36\\u0c3e\\u0c32\\u0c28\\u0c41 \\u0c2a\\u0c30\\u0c3f\\u0c37\\u0c4d\\u0c15\\u0c30\\u0c3f\\u0c38\\u0c4d\\u0c24\\u0c41\\u0c28\\u0c4d\\u0c28\\u0c3e\\u0c2e\\u0c28\\u0c3f, \\u0c35\\u0c3e\\u0c1f\\u0c3f\\u0c28\\u0c3f \\u0c15\\u0c4b\\u0c30\\u0c4d\\u0c1f\\u0c41\\u0c32\\u0c4b \\u0c35\\u0c3f\\u0c1a\\u0c3e\\u0c30\\u0c3f\\u0c02\\u0c1a\\u0c30\\u0c3e\\u0c26\\u0c28\\u0c3f \\u0c0f\\u0c1c\\u0c40 \\u0c2e\\u0c41\\u0c15\\u0c41\\u0c32\\u0c4d\\u200c \\u0c30\\u0c4b\\u0c39\\u0c24\\u0c4d\\u0c17\\u0c40 \\u0c24\\u0c46\\u0c32\\u0c3f\\u0c2a\\u0c3e\\u0c30\\u0c41. \\u0c08 \\u0c2a\\u0c3f\\u0c1f\\u0c3f\\u0c37\\u0c28\\u0c4d\\u0c32\\u0c2a\\u0c48 \\u0c28\\u0c46\\u0c32 \\u0c30\\u0c4b\\u0c1c\\u0c41\\u0c32 \\u0c24\\u0c30\\u0c4d\\u0c35\\u0c3e\\u0c24 \\u0c35\\u0c3e\\u0c1f\\u0c3f\\u0c28\\u0c3f \\u0c2a\\u0c30\\u0c3f\\u0c17\\u0c23\\u0c28\\u0c32\\u0c4b\\u0c15\\u0c3f \\u0c24\\u0c40\\u0c38\\u0c41\\u0c15\\u0c41\\u0c02\\u0c1f\\u0c3e\\u0c2e\\u0c28\\u0c3f \\u0c1c\\u0c38\\u0c4d\\u0c1f\\u0c3f\\u0c38\\u0c4d\\u200c \\u0c1c\\u0c47\\u0c0e\\u0c38\\u0c4d\\u200c \\u0c16\\u0c47\\u0c39\\u0c30\\u0c4d\\u200c, \\u0c1c\\u0c38\\u0c4d\\u0c1f\\u0c3f\\u0c38\\u0c4d\\u200c \\u0c0e\\u0c28\\u0c4d\\u0c35\\u0c40 \\u0c30\\u0c2e\\u0c23\\u0c32\\u0c24\\u0c4b \\u0c15\\u0c42\\u0c21\\u0c3f\\u0c28 \\u0c27\\u0c30\\u0c4d\\u0c2e\\u0c3e\\u0c38\\u0c28\\u0c02 \\u0c38\\u0c4d\\u0c2a\\u0c37\\u0c4d\\u0c1f\\u0c02 \\u0c1a\\u0c47\\u0c38\\u0c3f\\u0c02\\u0c26\\u0c3f. \\u0c05\\u0c02\\u0c24\\u0c15\\u0c41\\u0c2e\\u0c41\\u0c02\\u0c26\\u0c41, \\u0c15\\u0c4a\\u0c32\\u0c40\\u0c1c\\u0c3f\\u0c2f\\u0c02 \\u0c38\\u0c3f\\u0c2b\\u0c3e\\u0c30\\u0c38\\u0c41 \\u0c1a\\u0c47\\u0c38\\u0c3f\\u0c28\\u0c3e \\u0c39\\u0c48\\u0c15\\u0c4b\\u0c30\\u0c4d\\u0c1f\\u0c41 \\u0c38\\u0c40\\u0c1c\\u0c47, \\u0c28\\u0c4d\\u0c2f\\u0c3e\\u0c2f\\u0c2e\\u0c42\\u0c30\\u0c4d\\u0c24\\u0c41\\u0c32\\u0c28\\u0c41 \\u0c0e\\u0c02\\u0c26\\u0c41\\u0c15\\u0c41 \\u0c2c\\u0c26\\u0c3f\\u0c32\\u0c40 \\u0c1a\\u0c47\\u0c2f\\u0c32\\u0c47\\u0c26\\u0c28\\u0c3f \\u0c38\\u0c41\\u0c2a\\u0c4d\\u0c30\\u0c40\\u0c02 \\u0c2a\\u0c4d\\u0c30\\u0c36\\u0c4d\\u0c28\\u0c3f\\u0c02\\u0c1a\\u0c3f\\u0c28 \\u0c35\\u0c3f\\u0c37\\u0c2f\\u0c02 \\u0c24\\u0c46\\u0c32\\u0c3f\\u0c38\\u0c3f\\u0c02\\u0c26\\u0c47.\",\n          \"\\n\\u0c38\\u0c3f\\u0c2c\\u0c4d\\u0c2c\\u0c02\\u0c26\\u0c3f \\u0c28\\u0c46\\u0c1f\\u0c4d\\u0c1f\\u0c47\\u0c38\\u0c3f\\u0c28\\u0c3e.. \\u0c26\\u0c17\\u0c4d\\u0c17\\u0c30\\u0c15\\u0c41 \\u0c2a\\u0c3f\\u0c32\\u0c3f\\u0c2a\\u0c3f\\u0c02\\u0c1a\\u0c41\\u0c15\\u0c41\\u0c28\\u0c4d\\u0c28 \\u0c38\\u0c1a\\u0c3f\\u0c28\\u0c4d\\u200c\\u0c36\\u0c4d\\u0c30\\u0c40\\u0c35\\u0c3e\\u0c30\\u0c3f \\u0c1a\\u0c3f\\u0c24\\u0c4d\\u0c30\\u0c2a\\u0c1f\\u0c02 \\u0c38\\u0c4d\\u0c35\\u0c40\\u0c15\\u0c30\\u0c23\\u0c24\\u0c3f\\u0c30\\u0c41\\u0c2e\\u0c32: \\u0c06\\u0c1f\\u0c15\\u0c41 \\u0c26\\u0c42\\u0c30\\u0c2e\\u0c48\\u0c28\\u0c3e \\u0c05\\u0c2d\\u0c3f\\u0c2e\\u0c3e\\u0c28\\u0c41\\u0c32\\u0c15\\u0c41 \\u0c2e\\u0c3e\\u0c24\\u0c4d\\u0c30\\u0c02 \\u0c0e\\u0c2a\\u0c4d\\u0c2a\\u0c41\\u0c21\\u0c42 \\u0c26\\u0c17\\u0c4d\\u0c17\\u0c30\\u0c17\\u0c3e\\u0c28\\u0c47 \\u0c09\\u0c02\\u0c1f\\u0c3e\\u0c28\\u0c28\\u0c3f \\u0c15\\u0c4d\\u0c30\\u0c3f\\u0c15\\u0c46\\u0c1f\\u0c4d\\u200c \\u0c26\\u0c3f\\u0c17\\u0c4d\\u0c17\\u0c1c\\u0c02 \\u0c38\\u0c1a\\u0c3f\\u0c28\\u0c4d\\u200c \\u0c1f\\u0c46\\u0c02\\u0c21\\u0c42\\u0c32\\u0c4d\\u0c15\\u0c30\\u0c4d\\u200c \\u0c2e\\u0c30\\u0c4b\\u0c38\\u0c3e\\u0c30\\u0c3f \\u0c28\\u0c3f\\u0c30\\u0c42\\u0c2a\\u0c3f\\u0c02\\u0c1a\\u0c3e \\u0c30\\u0c41. \\u0c24\\u0c28\\u0c28\\u0c41 \\u0c15\\u0c32\\u0c3f\\u0c38\\u0c47\\u0c02\\u0c26\\u0c41\\u0c15\\u0c41 \\u0c35\\u0c1a\\u0c4d\\u0c1a\\u0c3f\\u0c28 \\u0c05\\u0c2d\\u0c3f\\u0c2e\\u0c3e\\u0c28\\u0c3f\\u0c28\\u0c3f \\u0c05\\u0c27\\u0c3f\\u0c15\\u0c3e\\u0c30\\u0c41\\u0c32\\u0c41, \\u0c38\\u0c46\\u0c15\\u0c4d\\u0c2f\\u0c42\\u0c30\\u0c3f\\u0c1f\\u0c40 \\u0c38\\u0c3f\\u0c2c\\u0c4d\\u0c2c\\u0c02\\u0c26\\u0c3f \\u0c26\\u0c42\\u0c30\\u0c02\\u0c17\\u0c3e \\u0c28\\u0c46\\u0c1f\\u0c4d\\u0c1f\\u0c47\\u0c38\\u0c3f\\u0c28\\u0c3e.. \\u0c38\\u0c1a\\u0c3f\\u0c28\\u0c4d\\u200c \\u0c2e\\u0c3e\\u0c24\\u0c4d\\u0c30\\u0c02 \\u0c05\\u0c24\\u0c28\\u0c4d\\u0c28\\u0c3f \\u0c26\\u0c17\\u0c4d\\u0c17\\u0c30\\u0c15\\u0c41 \\u0c2a\\u0c3f\\u0c32\\u0c3f\\u0c2a\\u0c3f\\u0c02\\u0c1a\\u0c41 \\u0c15\\u0c41\\u0c28\\u0c4d\\u0c28\\u0c3e\\u0c21\\u0c41. \\u0c05\\u0c24\\u0c21\\u0c3f \\u0c1a\\u0c4d\\u0c1a\\u0c3f\\u0c28 \\u0c36\\u0c4d\\u0c30\\u0c40\\u0c35\\u0c47\\u0c02\\u0c15\\u0c1f\\u0c47\\u0c36\\u0c4d\\u0c35\\u0c30 \\u0c38\\u0c4d\\u0c35\\u0c3e\\u0c2e\\u0c3f \\u0c1a\\u0c3f\\u0c24\\u0c4d\\u0c30\\u0c2a\\u0c1f\\u0c3e\\u0c28\\u0c4d\\u0c28\\u0c3f \\u0c24\\u0c40\\u0c38\\u0c41\\u0c15\\u0c41\\u0c28\\u0c3f \\u0c27\\u0c28\\u0c4d\\u0c2f\\u0c35\\u0c3e\\u0c26\\u0c3e\\u0c32\\u0c41 \\u0c1a\\u0c46\\u0c2a\\u0c4d\\u0c2a\\u0c3e\\u0c30\\u0c41. \\u0c08 \\u0c18\\u0c1f\\u0c28 \\u0c24\\u0c3f\\u0c30\\u0c41\\u0c2e\\u0c32 \\u0c36\\u0c4d\\u0c30\\u0c40\\u0c35\\u0c3e\\u0c30\\u0c3f \\u0c06\\u0c32 \\u0c2f\\u0c02 \\u0c35\\u0c46\\u0c32\\u0c41\\u0c2a\\u0c32 \\u0c17\\u0c41\\u0c30\\u0c41\\u0c35\\u0c3e\\u0c30\\u0c02 \\u0c09\\u0c26 \\u0c2f\\u0c02 \\u0c1a\\u0c4b\\u0c1f\\u0c41\\u0c1a\\u0c47\\u0c38\\u0c41\\u0c15\\u0c41\\u0c02 \\u0c26\\u0c3f. \\u0c36\\u0c4d\\u0c30\\u0c40\\u0c35\\u0c47\\u0c02\\u0c15\\u0c1f\\u0c47\\u0c36\\u0c4d\\u0c35\\u0c30 \\u0c38\\u0c4d\\u0c35\\u0c3e\\u0c2e\\u0c3f\\u0c28\\u0c3f \\u0c26\\u0c30\\u0c4d\\u0c36\\u0c3f\\u0c02\\u0c1a\\u0c41 \\u0c15\\u0c41\\u0c28\\u0c4d\\u0c28 \\u0c38\\u0c1a\\u0c3f\\u0c28\\u0c4d\\u200c \\u0c15\\u0c1f\\u0c4d\\u0c1f\\u0c41 \\u0c26\\u0c3f\\u0c1f\\u0c4d\\u0c1f\\u0c2e\\u0c48\\u0c28 \\u0c2d\\u0c26\\u0c4d\\u0c30\\u0c24 \\u0c28\\u0c21\\u0c41\\u0c2e \\u0c06\\u0c32\\u0c2f\\u0c02 \\u0c35\\u0c46\\u0c32\\u0c41\\u0c2a\\u0c32\\u0c15\\u0c41 \\u0c35\\u0c1a\\u0c4d\\u0c1a\\u0c3e \\u0c21\\u0c41. \\u0c24\\u0c28\\u0c15\\u0c3f \\u0c37\\u0c4d\\u0c1f\\u0c2e\\u0c48\\u0c28 \\u0c15\\u0c4d\\u0c30\\u0c3f\\u0c15\\u0c46\\u0c1f\\u0c30\\u0c4d\\u200c\\u0c28\\u0c41 \\u0c15\\u0c32\\u0c3f\\u0c38\\u0c3f \\u0c36\\u0c4d\\u0c30\\u0c40\\u0c35\\u0c3e\\u0c30\\u0c3f \\u0c1a\\u0c3f\\u0c24\\u0c4d\\u0c30\\u0c2a\\u0c1f\\u0c02 \\u0c2c\\u0c39\\u0c42\\u0c15\\u0c30\\u0c3f\\u0c02\\u0c1a\\u0c3e\\u0c32\\u0c28\\u0c3f \\u0c24\\u0c3f\\u0c30\\u0c41\\u0c2e\\u0c32\\u0c15\\u0c41 \\u0c1a\\u0c46\\u0c02\\u0c26\\u0c3f\\u0c28 \\u0c2e\\u0c41\\u0c28\\u0c3f\\u0c1a\\u0c02\\u0c26\\u0c4d\\u0c30 \\u0c06\\u0c32\\u0c2f\\u0c02 \\u0c35\\u0c46\\u0c32\\u0c41\\u0c2a\\u0c32 \\u0c06\\u0c36\\u0c17\\u0c3e  \\u0c0e\\u0c26\\u0c41\\u0c30\\u0c41\\u0c1a\\u0c42\\u0c38\\u0c4d\\u0c24\\u0c42 \\u0c28\\u0c3f\\u0c32\\u0c41\\u0c1a\\u0c41\\u0c28\\u0c4d\\u0c28\\u0c3e\\u0c21\\u0c41. \\u0c38\\u0c1a\\u0c3f\\u0c28\\u0c4d\\u200c \\u0c2c\\u0c2f \\u0c1f\\u0c15\\u0c41\\u0c30\\u0c3e\\u0c17\\u0c3e\\u0c28\\u0c47 \\u0c05\\u0c24\\u0c28\\u0c3f \\u0c26\\u0c17\\u0c4d\\u0c17\\u0c30\\u0c15\\u0c41 \\u0c1a\\u0c47\\u0c30\\u0c41\\u0c15\\u0c41\\u0c28\\u0c3f \\u0c1a\\u0c3f\\u0c24\\u0c4d\\u0c30\\u0c2a\\u0c1f\\u0c02 \\u0c07\\u0c1a\\u0c4d\\u0c1a\\u0c47\\u0c02\\u0c26\\u0c41\\u0c15\\u0c41 \\u0c2a\\u0c4d\\u0c30\\u0c2f\\u0c24\\u0c4d\\u0c28\\u0c3f\\u0c02 \\u0c1a\\u0c3e\\u0c21\\u0c41. \\u0c05\\u0c2f\\u0c3f\\u0c24\\u0c47 \\u0c05\\u0c27\\u0c3f\\u0c15\\u0c3e\\u0c30\\u0c41\\u0c32\\u0c41, \\u0c38\\u0c46\\u0c15\\u0c4d\\u0c2f\\u0c42\\u0c30\\u0c3f\\u0c1f\\u0c40 \\u0c38\\u0c3f\\u0c2c\\u0c4d\\u0c2c\\u0c02\\u0c26\\u0c3f \\u0c05\\u0c24\\u0c28\\u0c4d\\u0c28\\u0c3f \\u0c05\\u0c21\\u0c4d\\u0c21\\u0c41\\u0c15\\u0c41\\u0c28\\u0c3f \\u0c2a\\u0c15\\u0c4d\\u0c15\\u0c15\\u0c41 \\u0c24\\u0c4b\\u0c38\\u0c47\\u0c36\\u0c3e\\u0c30\\u0c41. \\u0c07\\u0c26\\u0c02\\u0c24\\u0c3e \\u0c17\\u0c2e\\u0c28\\u0c3f\\u0c02\\u0c1a\\u0c3f\\u0c28 \\u0c38\\u0c1a\\u0c3f \\u0c28\\u0c4d\\u200c.. \\u0c06 \\u0c05\\u0c2d\\u0c3f\\u0c2e\\u0c3e\\u0c28\\u0c3f\\u0c28\\u0c3f \\u0c26\\u0c17\\u0c4d\\u0c17\\u0c30\\u0c3f\\u0c15\\u0c3f \\u0c30\\u0c2e\\u0c4d\\u0c2e\\u0c28\\u0c3f \\u0c38\\u0c48\\u0c17 \\u0c1a\\u0c47\\u0c36\\u0c3e\\u0c30\\u0c41. \\u0c05\\u0c24\\u0c21\\u0c3f\\u0c28\\u0c3f \\u0c24\\u0c40\\u0c38\\u0c41\\u0c15\\u0c41\\u0c30\\u0c3e\\u0c35\\u0c3e\\u0c32\\u0c02\\u0c1f\\u0c42 \\u0c38\\u0c46\\u0c15\\u0c4d\\u0c2f\\u0c42\\u0c30\\u0c3f\\u0c1f\\u0c40 \\u0c38\\u0c3f\\u0c2c\\u0c4d\\u0c2c\\u0c02 \\u0c26\\u0c3f\\u0c28\\u0c3f \\u0c06\\u0c26\\u0c47\\u0c36\\u0c3f\\u0c02\\u0c1a\\u0c3e\\u0c30\\u0c41. \\u0c26\\u0c40\\u0c02\\u0c24\\u0c4b \\u0c2e\\u0c41\\u0c28\\u0c3f\\u0c1a\\u0c02\\u0c26\\u0c4d\\u0c30\\u0c28\\u0c41 \\u0c38\\u0c46\\u0c15\\u0c4d\\u0c2f\\u0c42\\u0c30\\u0c3f\\u0c1f\\u0c40 \\u0c38\\u0c3f\\u0c2c\\u0c4d\\u0c2c\\u0c02\\u0c26\\u0c47 \\u0c24\\u0c3f\\u0c30\\u0c3f\\u0c17\\u0c3f \\u0c2e\\u0c3e\\u0c38\\u0c4d\\u0c1f\\u0c30\\u0c4d\\u200c \\u0c35\\u0c26\\u0c4d\\u0c26\\u0c15\\u0c41 \\u0c24\\u0c40\\u0c38\\u0c41\\u0c15\\u0c4a \\u0c1a\\u0c4d\\u0c1a\\u0c3e\\u0c30\\u0c41. \\u0c24\\u0c28 \\u0c07\\u0c37\\u0c4d\\u0c1f\\u0c26\\u0c48\\u0c35\\u0c02 \\u0c24\\u0c28\\u0c28\\u0c41 \\u0c26\\u0c17\\u0c4d\\u0c17\\u0c30\\u0c15\\u0c41 \\u0c2a\\u0c3f\\u0c32\\u0c35 \\u0c21\\u0c02\\u0c24\\u0c4b \\u0c2e\\u0c41\\u0c28\\u0c3f\\u0c1a\\u0c02\\u0c26\\u0c4d\\u0c30 \\u0c06\\u0c28\\u0c02\\u0c26\\u0c02\\u0c24\\u0c4b \\u0c09\\u0c2a\\u0c4d\\u0c2a\\u0c4a\\u0c02\\u0c17\\u0c3f \\u0c2a\\u0c4b\\u0c2f\\u0c3e\\u0c21\\u0c41. \\u0c24\\u0c28 \\u0c1a\\u0c47\\u0c24\\u0c3f\\u0c32\\u0c4b \\u0c09\\u0c28\\u0c4d\\u0c28 \\u0c36\\u0c4d\\u0c30\\u0c40\\u0c35\\u0c3e\\u0c30\\u0c3f \\u0c1a\\u0c3f\\u0c24\\u0c4d\\u0c30\\u0c2a\\u0c1f\\u0c3e\\u0c28\\u0c4d\\u0c28\\u0c3f \\u0c38\\u0c1a\\u0c3f\\u0c28\\u0c4d\\u200c\\u0c15\\u0c41 \\u0c05\\u0c02\\u0c26\\u0c3f\\u0c02\\u0c1a\\u0c3e\\u0c21\\u0c41. \\u0c06 \\u0c05\\u0c2d\\u0c3f\\u0c2e\\u0c3e\\u0c28\\u0c3f\\u0c24\\u0c4b \\u0c38\\u0c1a\\u0c3f\\u0c28\\u0c4d\\u200c \\u0c2b\\u0c4a\\u0c1f\\u0c4b \\u0c26\\u0c3f\\u0c17\\u0c3e\\u0c21\\u0c41..\"\n        ],\n        \"semantic_type\": \"\",\n        \"description\": \"\"\n      }\n    },\n    {\n      \"column\": \"topic\",\n      \"properties\": {\n        \"dtype\": \"category\",\n        \"num_unique_values\": 5,\n        \"samples\": [\n          \"sports\",\n          \"editorial\",\n          \"nation\"\n        ],\n        \"semantic_type\": \"\",\n        \"description\": \"\"\n      }\n    }\n  ]\n}"
            }
          },
          "metadata": {},
          "execution_count": 12
        }
      ]
    },
    {
      "cell_type": "code",
      "source": [
        "y_test = test_news_df[\"topic\"].apply(func_topic)\n",
        "test_news_df[\"body_processed\"] = test_news_df[\"body\"].str.replace('\\u200c', '')\n",
        "test_news_df[\"body_processed\"] = test_news_df[\"body_processed\"].str.replace('\\n', '')\n",
        "test_news_df[\"body_processed\"] = test_news_df[\"body_processed\"].str.replace('\\t', '')\n",
        "test_news_df[\"body_processed\"] = test_news_df[\"body_processed\"].str.replace('\\xa0', '')\n",
        "\n",
        "test_news_df[\"body_processed\"] = test_news_df[\"body_processed\"].apply(lambda text: remove_punctuation(text))\n"
      ],
      "metadata": {
        "id": "P9TY1bkpcEkb"
      },
      "execution_count": 13,
      "outputs": []
    },
    {
      "cell_type": "code",
      "source": [
        "categories = [i for i in range(5)]\n",
        "\n",
        "test_text = []\n",
        "for t in test_news_df[\"body_processed\"]:\n",
        "  test_text.append(t)\n",
        "\n",
        "x_test = test_text\n",
        "\n",
        "print(len(x_test) , len(y_test))\n"
      ],
      "metadata": {
        "colab": {
          "base_uri": "https://localhost:8080/"
        },
        "id": "MafOxczAkNAK",
        "outputId": "d03239d3-60cf-4814-ddca-f2bb795ee07d"
      },
      "execution_count": 14,
      "outputs": [
        {
          "output_type": "stream",
          "name": "stdout",
          "text": [
            "17312 17312\n"
          ]
        }
      ]
    },
    {
      "cell_type": "code",
      "source": [
        "from sklearn.feature_extraction.text import CountVectorizer, TfidfVectorizer\n",
        "\n",
        "categories = [i for i in range(5)]\n",
        "\n",
        "text_topic = []\n",
        "for i in range(5):\n",
        "  curr_text = \"\"\n",
        "\n",
        "  for text in telugu_news_df[telugu_news_df[\"topic\"] == i][\"body_processed\"]:\n",
        "    curr_text += text\n",
        "    curr_text += \" \"\n",
        "\n",
        "  text_topic.append(curr_text)\n",
        "\n",
        "len(text_topic)\n",
        "\n",
        "for i in range(5):\n",
        "  print(len(text_topic[i]))"
      ],
      "metadata": {
        "colab": {
          "base_uri": "https://localhost:8080/"
        },
        "id": "FfbMMTD_kPmv",
        "outputId": "5e3781b6-0555-456a-9953-44aa4434a155"
      },
      "execution_count": 15,
      "outputs": [
        {
          "output_type": "stream",
          "name": "stdout",
          "text": [
            "3303990\n",
            "2092003\n",
            "6725085\n",
            "5737025\n",
            "6077143\n"
          ]
        }
      ]
    },
    {
      "cell_type": "code",
      "source": [
        "from indicnlp.tokenize import indic_tokenize\n",
        "\n",
        "\n",
        "def get_all_vocab(tot_text):\n",
        "  dic = {}\n",
        "  for t in indic_tokenize.trivial_tokenize(tot_text):\n",
        "    if t not in dic:\n",
        "      dic[t] = 1\n",
        "    else:\n",
        "      dic[t] += 1\n",
        "\n",
        "  return dic\n",
        "\n",
        "tot_text = \"\"\n",
        "for i in range(5):\n",
        "  tot_text += text_topic[i]\n",
        "tot_vocab = get_all_vocab(tot_text)\n",
        "tot_vocab = {k: v for k, v in sorted(tot_vocab.items(), key=lambda item: item[1], reverse = True)}\n",
        "\n",
        "print(len(tot_vocab))"
      ],
      "metadata": {
        "colab": {
          "base_uri": "https://localhost:8080/"
        },
        "id": "Y0UxsMP-kSb4",
        "outputId": "cb2c10d6-6b42-45b8-9773-637abc33b0b7"
      },
      "execution_count": 17,
      "outputs": [
        {
          "output_type": "stream",
          "name": "stdout",
          "text": [
            "316736\n"
          ]
        }
      ]
    },
    {
      "cell_type": "code",
      "source": [
        "x_train = text_topic\n",
        "y_train = categories\n",
        "import regex\n",
        "from indicnlp.tokenize import indic_tokenize\n",
        "\n",
        "# Using custom analyser for the count vectorizer (as telugu is an indeic language)\n",
        "def custom_analyzer(text):\n",
        "    words = regex.findall(r'\\w{1,}', text) #extract words of at least 2 letters\n",
        "    for w in words:\n",
        "        yield w"
      ],
      "metadata": {
        "id": "bTPiLJGKkcHs"
      },
      "execution_count": 18,
      "outputs": []
    },
    {
      "cell_type": "code",
      "source": [
        "count_vec = CountVectorizer(max_df = 0.75,min_df=0.1, lowercase = False , analyzer = custom_analyzer, max_features=100000, ngram_range=(1,2))\n",
        "\n",
        "x_train_features = count_vec.fit_transform(x_train)\n",
        "x_test_features = count_vec.transform(x_test)\n",
        "x_train_features.shape\n",
        "len(count_vec.stop_words_)"
      ],
      "metadata": {
        "colab": {
          "base_uri": "https://localhost:8080/"
        },
        "id": "eNSMxDJ9kfqB",
        "outputId": "24c0b556-5f3a-4cfe-a5c4-8be999499088"
      },
      "execution_count": 19,
      "outputs": [
        {
          "output_type": "stream",
          "name": "stderr",
          "text": [
            "/usr/local/lib/python3.10/dist-packages/sklearn/feature_extraction/text.py:544: UserWarning: The parameter 'ngram_range' will not be used since 'analyzer' is callable'\n",
            "  warnings.warn(\n"
          ]
        },
        {
          "output_type": "execute_result",
          "data": {
            "text/plain": [
              "201776"
            ]
          },
          "metadata": {},
          "execution_count": 19
        }
      ]
    },
    {
      "cell_type": "code",
      "source": [
        "from sklearn.naive_bayes import MultinomialNB\n",
        "\n",
        "clf = MultinomialNB()\n",
        "clf.fit(x_train_features, y_train)\n",
        "MultinomialNB()\n",
        "\n",
        "print(\"Test score :- \", clf.score(x_test_features, y_test))\n"
      ],
      "metadata": {
        "colab": {
          "base_uri": "https://localhost:8080/"
        },
        "id": "aoU0xbPQks53",
        "outputId": "09630986-1868-42bf-c445-f90b81c9e2de"
      },
      "execution_count": 20,
      "outputs": [
        {
          "output_type": "stream",
          "name": "stdout",
          "text": [
            "Test score :-  0.9785697781885397\n"
          ]
        }
      ]
    },
    {
      "cell_type": "code",
      "source": [
        "from sklearn.metrics import classification_report\n",
        "\n",
        "y_pred_test = clf.predict(x_test_features)\n",
        "target_names = list(inv_topic_dict.values())\n",
        "\n",
        "print(classification_report(y_test, y_pred_test, target_names=target_names))"
      ],
      "metadata": {
        "colab": {
          "base_uri": "https://localhost:8080/"
        },
        "id": "ZOdkWwTIkvl2",
        "outputId": "eda6d998-29e5-46ea-f576-cce50c601ab2"
      },
      "execution_count": 21,
      "outputs": [
        {
          "output_type": "stream",
          "name": "stdout",
          "text": [
            "               precision    recall  f1-score   support\n",
            "\n",
            "     business       0.93      1.00      0.96      2572\n",
            "       sports       0.99      0.99      0.99      1908\n",
            "       nation       0.99      0.96      0.98      6628\n",
            "entertainment       0.99      0.99      0.99      5145\n",
            "    editorial       0.95      0.95      0.95      1059\n",
            "\n",
            "     accuracy                           0.98     17312\n",
            "    macro avg       0.97      0.98      0.97     17312\n",
            " weighted avg       0.98      0.98      0.98     17312\n",
            "\n"
          ]
        }
      ]
    },
    {
      "cell_type": "code",
      "source": [
        "from sklearn.metrics import confusion_matrix, classification_report,accuracy_score,average_precision_score,f1_score\n",
        "confusion_mat = confusion_matrix(y_test, y_pred_test)\n",
        "\n",
        "plt.figure(figsize=(10,4))\n",
        "plt.title(\"Confusion matrix for test data\")\n",
        "plt.xlabel(\"Predicted class\")\n",
        "plt.ylabel(\"True class\")\n",
        "\n",
        "sns.heatmap(confusion_mat, annot=True, cmap=\"Greens\",  xticklabels = target_names,\n",
        "           yticklabels=target_names)\n",
        "plt.show()"
      ],
      "metadata": {
        "colab": {
          "base_uri": "https://localhost:8080/",
          "height": 391
        },
        "id": "dZay9M0zkyLm",
        "outputId": "abf5a3e9-a186-4ca3-f8b8-cca471da9e1d"
      },
      "execution_count": 22,
      "outputs": [
        {
          "output_type": "display_data",
          "data": {
            "text/plain": [
              "<Figure size 1000x400 with 2 Axes>"
            ],
            "image/png": "[encoded data removed]"
          },
          "metadata": {}
        }
      ]
    },
    {
      "cell_type": "code",
      "source": [
        "# Function for predicting a sample text with the trained model\n",
        "\n",
        "def predict_text_sample(test_text, inv_topic_dict, clf, count_vec):\n",
        "  test_sample = [test_text]\n",
        "  x_test_sample_fetaures = count_vec.transform(test_sample)\n",
        "  y_pred_test_sample = clf.predict(x_test_sample_fetaures)\n",
        "\n",
        "  return inv_topic_dict[y_pred_test_sample[0]]\n"
      ],
      "metadata": {
        "id": "yuhpgYhvk2-0"
      },
      "execution_count": 23,
      "outputs": []
    },
    {
      "cell_type": "code",
      "source": [
        "test_text =\"ఇండియన్ స్క్రీన్ మీద పోటీ పడటం అయిపోయింది అందుకే ఇప్పుడు మన సినిమాలు ఫారిన్ రిలీజ్ లో పోటీ పడుతున్నాయి. ఇండియన్ సినిమాలు ముఖ్యంగా సౌత్ సినిమాలు రిలీజ్ అవుతున్నాయి అంటే వరల్డ్ వైడ్ మార్కెట్ ఓపెన్ అవుతుంది. తెలుగు తమిళ హిందీ భాషల సినిమాలు సబ్ టైటిల్స్ తో విధేశాల్లో కూడా రిలీజ్ అవుతున్నాయి\"\n",
        "\n",
        "print(\"Prediced class is \" , predict_text_sample(test_text, inv_topic_dict, clf, count_vec))"
      ],
      "metadata": {
        "colab": {
          "base_uri": "https://localhost:8080/"
        },
        "id": "nfhmKMG3k9dS",
        "outputId": "270dc5ee-62d5-41be-dbc9-c16942968405"
      },
      "execution_count": 24,
      "outputs": [
        {
          "output_type": "stream",
          "name": "stdout",
          "text": [
            "Prediced class is  entertainment\n"
          ]
        }
      ]
    },
    {
      "cell_type": "code",
      "source": [
        "test_text = \"హైదరాబాద్: తెలంగాణలో సంచలనం సృష్టించిన ‘ఎమ్మెల్యేలకు ఎర’ కేసులో హైకోర్టు కీలక తీర్పు వెల్లడించింది. ఈ కేసులో ముగ్గురు నిందితుల రిమాండ్‌కు ఉన్నత న్యాయస్థానం అనుమతించింది. నిందితులు వెంటనే సైబరాబాద్ కమిషనర్‌ స్టీఫెన్‌ రవీంద్ర ఎదుట లొంగిపోవాలని ఆదేశించింది. ఒకవేళ లొంగిపోకపోతే వారిని అరెస్టు చేసి ఏసీబీ కోర్టులో హాజరుపర్చాలని.. ఆ తర్వాత రిమాండ్‌కు తరలించాలని పోలీసులను ధర్మాసనం ఆదేశించింది.\"\n",
        "print(\"Prediced class is \" , predict_text_sample(test_text, inv_topic_dict, clf, count_vec))"
      ],
      "metadata": {
        "colab": {
          "base_uri": "https://localhost:8080/"
        },
        "id": "PMei2z8nlAv4",
        "outputId": "01e679f7-92c4-487e-cb53-ebeb915b4ffa"
      },
      "execution_count": 25,
      "outputs": [
        {
          "output_type": "stream",
          "name": "stdout",
          "text": [
            "Prediced class is  nation\n"
          ]
        }
      ]
    },
    {
      "cell_type": "code",
      "source": [
        "test_text = \"జట్టు స్కోరు 3 పరుగుల వద్ద రెండో ఓవర్లోనే బెయిర్ స్టో అవుట్ కాగా.. ఆ తర్వాత అఫ్ఘానిస్తా్న్ బౌలర్ల ఉచ్చులో ఇంగ్లండ్ బ్యాటర్లు విలవిలలాడిపోయారు. \"\n",
        "print(\"Prediced class is \" , predict_text_sample(test_text, inv_topic_dict, clf, count_vec))"
      ],
      "metadata": {
        "colab": {
          "base_uri": "https://localhost:8080/"
        },
        "id": "6wEWyAqzlEGd",
        "outputId": "23c9feac-0e4c-455b-bced-31dc214a5dfb"
      },
      "execution_count": 26,
      "outputs": [
        {
          "output_type": "stream",
          "name": "stdout",
          "text": [
            "Prediced class is  sports\n"
          ]
        }
      ]
    },
    {
      "cell_type": "code",
      "source": [
        "from tensorflow.keras.preprocessing.text import Tokenizer\n",
        "from tensorflow.keras.preprocessing.sequence import pad_sequences\n",
        "from tensorflow.keras.models import Sequential\n",
        "from tensorflow.keras.layers import Embedding, LSTM, Dense\n",
        "from tensorflow.keras.utils import to_categorical\n",
        "\n",
        "# Preprocessing\n",
        "tokenizer = Tokenizer(num_words=5000)\n",
        "tokenizer.fit_on_texts(telugu_news_df['body'])\n",
        "sequences = tokenizer.texts_to_sequences(telugu_news_df['body'])\n",
        "data = pad_sequences(sequences, maxlen=200)\n",
        "# Check the number of unique categories in 'topic'\n",
        "num_categories = len(telugu_news_df['topic'].unique())\n",
        "\n",
        "model = Sequential()\n",
        "model.add(Embedding(input_dim=5000, output_dim=64, input_length=200))\n",
        "model.add(LSTM(64, return_sequences=True))\n",
        "model.add(LSTM(32))\n",
        "model.add(Dense(num_categories, activation='softmax'))\n",
        "\n",
        "# Compile the model\n",
        "model.compile(optimizer='adam', loss='categorical_crossentropy', metrics=['accuracy'])\n",
        "\n",
        "# Convert labels to categorical\n",
        "labels = to_categorical(telugu_news_df['topic'], num_classes=num_categories)\n",
        "\n",
        "# Train the model\n",
        "model.fit(data, labels, epochs=10, batch_size=32)"
      ],
      "metadata": {
        "colab": {
          "base_uri": "https://localhost:8080/"
        },
        "id": "Klo04uJglXux",
        "outputId": "7a0162b2-313e-4108-d6a9-8eea1e922a3b"
      },
      "execution_count": 27,
      "outputs": [
        {
          "output_type": "stream",
          "name": "stdout",
          "text": [
            "Epoch 1/10\n",
            "541/541 [==============================] - 117s 199ms/step - loss: 0.5436 - accuracy: 0.8115\n",
            "Epoch 2/10\n",
            "541/541 [==============================] - 90s 167ms/step - loss: 0.2011 - accuracy: 0.9422\n",
            "Epoch 3/10\n",
            "541/541 [==============================] - 100s 185ms/step - loss: 0.1277 - accuracy: 0.9639\n",
            "Epoch 4/10\n",
            "541/541 [==============================] - 117s 217ms/step - loss: 0.0835 - accuracy: 0.9779\n",
            "Epoch 5/10\n",
            "541/541 [==============================] - 92s 171ms/step - loss: 0.0677 - accuracy: 0.9823\n",
            "Epoch 6/10\n",
            "541/541 [==============================] - 90s 166ms/step - loss: 0.0537 - accuracy: 0.9852\n",
            "Epoch 7/10\n",
            "541/541 [==============================] - 89s 164ms/step - loss: 0.0419 - accuracy: 0.9891\n",
            "Epoch 8/10\n",
            "541/541 [==============================] - 90s 167ms/step - loss: 0.0307 - accuracy: 0.9925\n",
            "Epoch 9/10\n",
            "541/541 [==============================] - 88s 163ms/step - loss: 0.0264 - accuracy: 0.9935\n",
            "Epoch 10/10\n",
            "541/541 [==============================] - 89s 164ms/step - loss: 0.0319 - accuracy: 0.9915\n"
          ]
        },
        {
          "output_type": "execute_result",
          "data": {
            "text/plain": [
              "<keras.src.callbacks.History at 0x7c192ea999c0>"
            ]
          },
          "metadata": {},
          "execution_count": 27
        }
      ]
    },
    {
      "cell_type": "code",
      "source": [
        "def predict_category(text, tokenizer, model, inv_topic_dict):\n",
        "    # Preprocess the text\n",
        "    sequence = tokenizer.texts_to_sequences([text])\n",
        "    padded_sequence = pad_sequences(sequence, maxlen=200)\n",
        "\n",
        "    # Predict\n",
        "    prediction = model.predict(padded_sequence)\n",
        "    predicted_category_index = np.argmax(prediction)\n",
        "    predicted_category = inv_topic_dict[predicted_category_index]\n",
        "\n",
        "    return predicted_category"
      ],
      "metadata": {
        "id": "ohFts2wylpJI"
      },
      "execution_count": 28,
      "outputs": []
    },
    {
      "cell_type": "code",
      "source": [
        "sample_text = \"ఆగండ్రా బాబూ రేయ్ ఆగండ్రే.. అంటూ తన ఫ్యాన్స్‌ కేరింతల్ని రెట్టింపు చేస్తూ తన మాస్ మేనరిజంతో స్పీచ్ ఇచ్చారు రవితేజ. ఈ సినిమా ప్రతి బ్లాక్.. అంత అందంగా వచ్చిందంటే.. సినిమాటోగ్రాఫర్ మది.. యాక్షన్ ఎపిసోడ్ చేసిన రామ్ లక్ష్మణ్, పీటర్ హెయిన్స్. ఆ ట్రైన్ ఎపిసోడ్‌ చేసింది పీటర్ హెయిన్స్. ఈ సినిమా రియల్ క్యారెక్టర్ కాబట్టి.. రియల్ ఎమోషన్స్‌తో సినిమా చేశారు. రియల్ యాక్షన్ ఎమోషన్స్ అంత బాగా రావడానికి కారణం ఏంటంటే.. రామ్ లక్ష్మణ్‌లు కూడా.. టైగర్ నాగేశ్వరరావు ఏరియాకి చెందిన చీరాల వారే. ఈ టైగర్ నాగేశ్వరరావు గురించి బాగా తెలిసిన వాళ్లు రామ్ లక్ష్మణ్‌లు.\"\n",
        "\n",
        "predicted_category = predict_category(sample_text, tokenizer, model, inv_topic_dict)\n",
        "print(\"Predicted Category:\", predicted_category)"
      ],
      "metadata": {
        "colab": {
          "base_uri": "https://localhost:8080/"
        },
        "id": "uW9acl00lsSL",
        "outputId": "e0b96796-0ee1-40c7-b525-4cff8035a370"
      },
      "execution_count": 29,
      "outputs": [
        {
          "output_type": "stream",
          "name": "stdout",
          "text": [
            "1/1 [==============================] - 1s 1s/step\n",
            "Predicted Category: entertainment\n"
          ]
        }
      ]
    },
    {
      "cell_type": "code",
      "source": [
        "import pandas as pd\n",
        "from sklearn.feature_extraction.text import TfidfVectorizer\n",
        "from sklearn.metrics.pairwise import linear_kernel\n",
        "from sklearn.naive_bayes import MultinomialNB\n",
        "from sklearn.feature_extraction.text import CountVectorizer\n",
        "from sklearn.metrics.pairwise import cosine_similarity"
      ],
      "metadata": {
        "id": "gkSL00SVmoWE"
      },
      "execution_count": 30,
      "outputs": []
    },
    {
      "cell_type": "code",
      "source": [
        "def generate_ngrams(tokens, n=2):\n",
        "    return [' '.join(tokens[i:i+n]) for i in range(len(tokens)-n+1)]\n",
        "\n",
        "def custom_analyzer_with_ngrams(text, n=2):\n",
        "    words = indic_tokenize.trivial_tokenize(text)\n",
        "    ngrams = generate_ngrams(words, n)\n",
        "    return words + ngrams"
      ],
      "metadata": {
        "id": "GuIxIpUBmsUt"
      },
      "execution_count": 31,
      "outputs": []
    },
    {
      "cell_type": "code",
      "source": [
        "def get_recommendations_by_index(article_index, df_content, top_n=10):\n",
        "    vect = TfidfVectorizer(analyzer=custom_analyzer_with_ngrams, ngram_range=(1,2), max_df=0.85, min_df=0.05)\n",
        "    count_matrix = vect.fit_transform(df_content.body_processed.values)\n",
        "\n",
        "    article_vector = count_matrix[article_index]\n",
        "\n",
        "    cosine_sim = linear_kernel(article_vector, count_matrix).flatten()\n",
        "    sim_scores = list(enumerate(cosine_sim))\n",
        "    sim_scores = sorted(sim_scores, key=lambda x: x[1], reverse=True)\n",
        "    sim_scores = sim_scores[1:top_n+1]\n",
        "    similar_article_indices = [i[0] for i in sim_scores]\n",
        "    scores = [i[1] for i in sim_scores]\n",
        "\n",
        "    similar_articles = df_content['body_processed'].iloc[similar_article_indices]\n",
        "    return similar_articles, scores\n",
        "\n",
        "article_index = 0\n",
        "recommended_articles, scores = get_recommendations_by_index(article_index, telugu_news_df, 10)\n",
        "\n",
        "print(\"Original Article:\", telugu_news_df.iloc[article_index]['body_processed'][:100], \"\\n\")\n",
        "for idx, (article, score) in enumerate(zip(recommended_articles, scores)):\n",
        "    print(f\"Score: {score:.4f} - Article: {article[:100]}...\")"
      ],
      "metadata": {
        "colab": {
          "base_uri": "https://localhost:8080/"
        },
        "id": "kvPM48QJmyVC",
        "outputId": "5b479112-72e5-438e-cd85-fa56611bfe09"
      },
      "execution_count": 32,
      "outputs": [
        {
          "output_type": "stream",
          "name": "stderr",
          "text": [
            "/usr/local/lib/python3.10/dist-packages/sklearn/feature_extraction/text.py:544: UserWarning: The parameter 'ngram_range' will not be used since 'analyzer' is callable'\n",
            "  warnings.warn(\n"
          ]
        },
        {
          "output_type": "stream",
          "name": "stdout",
          "text": [
            "Original Article: భారీ ఎత్తున మొండిబకాయిలు పెరిగిపోవడంతో ఐడిబిఐ వ్యవహారాలపై భారత రిజర్వు బ్యాంకు ఆర్బిఐ ఒక కన్నేసింది  \n",
            "\n",
            "Score: 0.4666 - Article: చండీగఢ్ ఆర్బిఐ కొత్త రూ10 నోట్లు జారీ చేయబోతోంది మహాత్మాగాంధీ సీరిస్ 2005లో భాగంగా గవర్నర్ ఉర్జిత పట...\n",
            "Score: 0.4547 - Article: గురుగ్రామ్ మణప్పురం ఫైనాన్స్ కంపెనీపై 8 మంది సాయుధులు దాడిచేసి 33 కిలోల బంగారంతో పాటు రూ8లక్షల నగదు ...\n",
            "Score: 0.4514 - Article: అహ్మదాబాద్ గుజరాత్ అంతర్జాతీయ సరిహద్దుల్లోని జఖావు తీరం వద్ద 100 మందికి పైగా భారత జాలర్లను పాకిస్తాన...\n",
            "Score: 0.4481 - Article: న్యూఢిల్లీ టెలికం రంగంలోకి మెరుపు వేగంతో దూసుకొచ్చిన రిలయన్స్ జియో వస్తూ వస్తూనే మొబైల్ టారిఫ్లను అమ...\n",
            "Score: 0.4395 - Article: భారతీయ జనతాపార్టీ అధ్యక్షుడు అమిత్ షాను సోహ్రబుద్దీన్ ఎన్కౌంటర్ వివాదం వదిలేట్టు లేదు ఈ కేసును గతంలో...\n",
            "Score: 0.4242 - Article: జిఎస్టి అమల్లోకి వస్తున్న తరుణంలో మార్కెట్లో ఔషధాల కొరతకు అవకాశం ఉందన్న హెచ్చరికలు వినవస్తున్నాయి రె...\n",
            "Score: 0.4173 - Article: విలువ రూ4500 కోట్లున్యూఢిల్లీ ఇంజనీరింగ్ దిగ్గజం ఎల్ అండ్ టికి రక్షణ శాఖ నుంచి 100 హోవిట్జర్ల సరఫరాక...\n",
            "Score: 0.4160 - Article: చెన్నై శశికళ ఆశలపై సుప్రీం నీళ్లు చల్లడంతో పాటు ఆమెకు నాలుగేళ్ల జైలు శిక్ష విధించింది తక్షణమే లొంగిప...\n",
            "Score: 0.4159 - Article: అమెరికా అధ్యక్షుడు ట్రంప్ అన్నంతపనీ చేస్తున్నారు తాజాగా ప్రీమియం హెచ్1బీ వీసాలను ఆరు నెలల పాటు రద్దు...\n",
            "Score: 0.4155 - Article: న్యూఢిల్లీ ప్రపంచవ్యాప్తంగా ఐటి రంగంలో ఆటోమేషన్ డిజిటల్ టెక్నాలజీల కారణంగా పెద్ద సంఖ్యలో ఉద్యోగాలు గ...\n"
          ]
        }
      ]
    }
  ]
}